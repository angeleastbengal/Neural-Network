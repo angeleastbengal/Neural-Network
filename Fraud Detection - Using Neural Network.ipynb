{
 "cells": [
  {
   "cell_type": "markdown",
   "metadata": {
    "colab_type": "text",
    "id": "4ljrXbm43CuG"
   },
   "source": [
    "## Introduction to Neural Networks - Fraud Detection\n",
    "\n",
    "Nilson reports that U.S. card fraud (credit, debt, etc) was reportedly 9 billion dollars in 2016 and expected to increase to 12 billion dollars by 2020. For perspective, in 2017 both PayPal's and Mastercard's revenue was only $10.8 billion each.\n",
    "\n",
    "\n",
    "**Objective:** In this session, given the credit card transactions, we will build a simple neural network (i.e., Multilayer perceptrons) for Fraud Detection using Keras."
   ]
  },
  {
   "cell_type": "markdown",
   "metadata": {
    "colab_type": "text",
    "id": "Ilr-y66cDLn7"
   },
   "source": [
    "This notebooks covers,\n",
    "\n",
    "1. Creating a Model\n",
    "\n",
    "2. Adding Layers\n",
    "\n",
    "3. Activations\n",
    "\n",
    "4. Optimizers and Loss functions\n",
    "\n",
    "5. Evaluation"
   ]
  },
  {
   "cell_type": "markdown",
   "metadata": {
    "colab_type": "text",
    "id": "g3u3Z-GA1dFK"
   },
   "source": [
    "### Dataset Description\n",
    "\n",
    "The datasets contains transactions made by credit cards in September 2013 by european cardholders. This dataset presents transactions that occurred in two days, where we have 492 frauds out of 284,807 transactions. The dataset is highly unbalanced, the positive class (frauds) account for 0.172% of all transactions.\n",
    "\n",
    "It contains only numerical input variables which are the result of a PCA transformation. Unfortunately, due to confidentiality issues, the original features and more background information about the data is not provided. Features V1, V2, ... V28 are the principal components obtained with PCA, the only features which have not been transformed with PCA are 'Time' and 'Amount'. Feature 'Time' contains the seconds elapsed between each transaction and the first transaction in the dataset. The feature 'Amount' is the transaction Amount, this feature can be used for example-dependant cost-senstive learning. Feature 'Class' is the response variable and it takes value 1 in case of fraud and 0 otherwise.\n",
    "\n",
    "Source: https://www.kaggle.com/mlg-ulb/creditcardfraud"
   ]
  },
  {
   "cell_type": "markdown",
   "metadata": {},
   "source": [
    "#### Process flow for building Neural Networks using Tensor Flow + Keras"
   ]
  },
  {
   "cell_type": "markdown",
   "metadata": {},
   "source": [
    "Step 1. Read the data\n",
    "\n",
    "Step 2. Clean and prepare the data. Ensure data is scaled\n",
    "\n",
    "Step 3. Create a train test split - 70:30 or 80:20\n",
    "\n",
    "Step 4. Using the training data we need to start building a model. First create an empty sequence using Sequential(layers=None, name=None). This shows that layers are not added yet\n",
    "\n",
    "Step 5. Add layers using the Dense function. As in when you add the layers, you need to specify the number of neurons and the activation function\n",
    "\n",
    "Step 6. Now compile the model using one of the compilers, which could be ADAM, SGB, etc.\n",
    "\n",
    "Step 7. Specify the loss function and accuracy metrics\n",
    "\n",
    "Step 8. Fit the model on the data and check accuracy score on test data"
   ]
  },
  {
   "cell_type": "code",
   "execution_count": 1,
   "metadata": {
    "colab": {
     "base_uri": "https://localhost:8080/",
     "height": 34
    },
    "colab_type": "code",
    "id": "H79BpACkblay",
    "outputId": "fab8c838-6558-431d-d087-f2f3c9de655d"
   },
   "outputs": [
    {
     "name": "stdout",
     "output_type": "stream",
     "text": [
      "2.2.0\n"
     ]
    }
   ],
   "source": [
    "import tensorflow as tf\n",
    "print(tf.__version__)"
   ]
  },
  {
   "cell_type": "code",
   "execution_count": 2,
   "metadata": {
    "colab": {},
    "colab_type": "code",
    "id": "2Ro7A1N5y6Hh"
   },
   "outputs": [],
   "source": [
    "import pandas as pd\n",
    "import numpy as np\n",
    "\n",
    "from sklearn.model_selection import train_test_split\n",
    "import tensorflow as tf\n",
    "\n",
    "from sklearn import preprocessing\n",
    "\n",
    "from tensorflow.keras.models import Sequential\n",
    "from tensorflow.keras.layers import Dense, Dropout, BatchNormalization\n",
    "\n",
    "from sklearn.metrics import accuracy_score, confusion_matrix, precision_score, recall_score, f1_score, precision_recall_curve, auc\n",
    "\n",
    "import matplotlib.pyplot as plt\n",
    "from tensorflow.keras import optimizers\n",
    "\n",
    "import seaborn as sns\n"
   ]
  },
  {
   "cell_type": "code",
   "execution_count": 3,
   "metadata": {},
   "outputs": [],
   "source": [
    "from tensorflow import keras"
   ]
  },
  {
   "cell_type": "code",
   "execution_count": 4,
   "metadata": {},
   "outputs": [],
   "source": [
    "import random as rn"
   ]
  },
  {
   "cell_type": "code",
   "execution_count": 5,
   "metadata": {},
   "outputs": [],
   "source": [
    "import os\n",
    "os.environ[\"CUDA_VISIBLE_DEVICES\"] = \"3\"\n",
    "PYTHONHASHSEED=0"
   ]
  },
  {
   "cell_type": "code",
   "execution_count": 6,
   "metadata": {},
   "outputs": [],
   "source": [
    "tf.random.set_seed(1234)\n",
    "np.random.seed(1234)\n",
    "rn.seed(1254)"
   ]
  },
  {
   "cell_type": "code",
   "execution_count": null,
   "metadata": {},
   "outputs": [],
   "source": [
    "# from tensorflow.keras import backend as K\n",
    "\n",
    "# session_conf = tf.ConfigProto(\n",
    "#       intra_op_parallelism_threads=1,\n",
    "#       inter_op_parallelism_threads=1)\n",
    "\n",
    "# #Force Tensorflow to use a single thread\n",
    "# sess = tf.Session(graph=tf.get_default_graph(), config=session_conf)\n",
    "\n",
    "# K.set_session(sess)"
   ]
  },
  {
   "cell_type": "code",
   "execution_count": 7,
   "metadata": {},
   "outputs": [
    {
     "data": {
      "text/html": [
       "<div>\n",
       "<style scoped>\n",
       "    .dataframe tbody tr th:only-of-type {\n",
       "        vertical-align: middle;\n",
       "    }\n",
       "\n",
       "    .dataframe tbody tr th {\n",
       "        vertical-align: top;\n",
       "    }\n",
       "\n",
       "    .dataframe thead th {\n",
       "        text-align: right;\n",
       "    }\n",
       "</style>\n",
       "<table border=\"1\" class=\"dataframe\">\n",
       "  <thead>\n",
       "    <tr style=\"text-align: right;\">\n",
       "      <th></th>\n",
       "      <th>Time</th>\n",
       "      <th>V1</th>\n",
       "      <th>V2</th>\n",
       "      <th>V3</th>\n",
       "      <th>V4</th>\n",
       "      <th>V5</th>\n",
       "      <th>V6</th>\n",
       "      <th>V7</th>\n",
       "      <th>V8</th>\n",
       "      <th>V9</th>\n",
       "      <th>...</th>\n",
       "      <th>V21</th>\n",
       "      <th>V22</th>\n",
       "      <th>V23</th>\n",
       "      <th>V24</th>\n",
       "      <th>V25</th>\n",
       "      <th>V26</th>\n",
       "      <th>V27</th>\n",
       "      <th>V28</th>\n",
       "      <th>Amount</th>\n",
       "      <th>Class</th>\n",
       "    </tr>\n",
       "  </thead>\n",
       "  <tbody>\n",
       "    <tr>\n",
       "      <th>0</th>\n",
       "      <td>0.0</td>\n",
       "      <td>-1.359807</td>\n",
       "      <td>-0.072781</td>\n",
       "      <td>2.536347</td>\n",
       "      <td>1.378155</td>\n",
       "      <td>-0.338321</td>\n",
       "      <td>0.462388</td>\n",
       "      <td>0.239599</td>\n",
       "      <td>0.098698</td>\n",
       "      <td>0.363787</td>\n",
       "      <td>...</td>\n",
       "      <td>-0.018307</td>\n",
       "      <td>0.277838</td>\n",
       "      <td>-0.110474</td>\n",
       "      <td>0.066928</td>\n",
       "      <td>0.128539</td>\n",
       "      <td>-0.189115</td>\n",
       "      <td>0.133558</td>\n",
       "      <td>-0.021053</td>\n",
       "      <td>149.62</td>\n",
       "      <td>0</td>\n",
       "    </tr>\n",
       "    <tr>\n",
       "      <th>1</th>\n",
       "      <td>0.0</td>\n",
       "      <td>1.191857</td>\n",
       "      <td>0.266151</td>\n",
       "      <td>0.166480</td>\n",
       "      <td>0.448154</td>\n",
       "      <td>0.060018</td>\n",
       "      <td>-0.082361</td>\n",
       "      <td>-0.078803</td>\n",
       "      <td>0.085102</td>\n",
       "      <td>-0.255425</td>\n",
       "      <td>...</td>\n",
       "      <td>-0.225775</td>\n",
       "      <td>-0.638672</td>\n",
       "      <td>0.101288</td>\n",
       "      <td>-0.339846</td>\n",
       "      <td>0.167170</td>\n",
       "      <td>0.125895</td>\n",
       "      <td>-0.008983</td>\n",
       "      <td>0.014724</td>\n",
       "      <td>2.69</td>\n",
       "      <td>0</td>\n",
       "    </tr>\n",
       "    <tr>\n",
       "      <th>2</th>\n",
       "      <td>1.0</td>\n",
       "      <td>-1.358354</td>\n",
       "      <td>-1.340163</td>\n",
       "      <td>1.773209</td>\n",
       "      <td>0.379780</td>\n",
       "      <td>-0.503198</td>\n",
       "      <td>1.800499</td>\n",
       "      <td>0.791461</td>\n",
       "      <td>0.247676</td>\n",
       "      <td>-1.514654</td>\n",
       "      <td>...</td>\n",
       "      <td>0.247998</td>\n",
       "      <td>0.771679</td>\n",
       "      <td>0.909412</td>\n",
       "      <td>-0.689281</td>\n",
       "      <td>-0.327642</td>\n",
       "      <td>-0.139097</td>\n",
       "      <td>-0.055353</td>\n",
       "      <td>-0.059752</td>\n",
       "      <td>378.66</td>\n",
       "      <td>0</td>\n",
       "    </tr>\n",
       "    <tr>\n",
       "      <th>3</th>\n",
       "      <td>1.0</td>\n",
       "      <td>-0.966272</td>\n",
       "      <td>-0.185226</td>\n",
       "      <td>1.792993</td>\n",
       "      <td>-0.863291</td>\n",
       "      <td>-0.010309</td>\n",
       "      <td>1.247203</td>\n",
       "      <td>0.237609</td>\n",
       "      <td>0.377436</td>\n",
       "      <td>-1.387024</td>\n",
       "      <td>...</td>\n",
       "      <td>-0.108300</td>\n",
       "      <td>0.005274</td>\n",
       "      <td>-0.190321</td>\n",
       "      <td>-1.175575</td>\n",
       "      <td>0.647376</td>\n",
       "      <td>-0.221929</td>\n",
       "      <td>0.062723</td>\n",
       "      <td>0.061458</td>\n",
       "      <td>123.50</td>\n",
       "      <td>0</td>\n",
       "    </tr>\n",
       "    <tr>\n",
       "      <th>4</th>\n",
       "      <td>2.0</td>\n",
       "      <td>-1.158233</td>\n",
       "      <td>0.877737</td>\n",
       "      <td>1.548718</td>\n",
       "      <td>0.403034</td>\n",
       "      <td>-0.407193</td>\n",
       "      <td>0.095921</td>\n",
       "      <td>0.592941</td>\n",
       "      <td>-0.270533</td>\n",
       "      <td>0.817739</td>\n",
       "      <td>...</td>\n",
       "      <td>-0.009431</td>\n",
       "      <td>0.798278</td>\n",
       "      <td>-0.137458</td>\n",
       "      <td>0.141267</td>\n",
       "      <td>-0.206010</td>\n",
       "      <td>0.502292</td>\n",
       "      <td>0.219422</td>\n",
       "      <td>0.215153</td>\n",
       "      <td>69.99</td>\n",
       "      <td>0</td>\n",
       "    </tr>\n",
       "  </tbody>\n",
       "</table>\n",
       "<p>5 rows × 31 columns</p>\n",
       "</div>"
      ],
      "text/plain": [
       "   Time        V1        V2        V3        V4        V5        V6        V7  \\\n",
       "0   0.0 -1.359807 -0.072781  2.536347  1.378155 -0.338321  0.462388  0.239599   \n",
       "1   0.0  1.191857  0.266151  0.166480  0.448154  0.060018 -0.082361 -0.078803   \n",
       "2   1.0 -1.358354 -1.340163  1.773209  0.379780 -0.503198  1.800499  0.791461   \n",
       "3   1.0 -0.966272 -0.185226  1.792993 -0.863291 -0.010309  1.247203  0.237609   \n",
       "4   2.0 -1.158233  0.877737  1.548718  0.403034 -0.407193  0.095921  0.592941   \n",
       "\n",
       "         V8        V9  ...       V21       V22       V23       V24       V25  \\\n",
       "0  0.098698  0.363787  ... -0.018307  0.277838 -0.110474  0.066928  0.128539   \n",
       "1  0.085102 -0.255425  ... -0.225775 -0.638672  0.101288 -0.339846  0.167170   \n",
       "2  0.247676 -1.514654  ...  0.247998  0.771679  0.909412 -0.689281 -0.327642   \n",
       "3  0.377436 -1.387024  ... -0.108300  0.005274 -0.190321 -1.175575  0.647376   \n",
       "4 -0.270533  0.817739  ... -0.009431  0.798278 -0.137458  0.141267 -0.206010   \n",
       "\n",
       "        V26       V27       V28  Amount  Class  \n",
       "0 -0.189115  0.133558 -0.021053  149.62      0  \n",
       "1  0.125895 -0.008983  0.014724    2.69      0  \n",
       "2 -0.139097 -0.055353 -0.059752  378.66      0  \n",
       "3 -0.221929  0.062723  0.061458  123.50      0  \n",
       "4  0.502292  0.219422  0.215153   69.99      0  \n",
       "\n",
       "[5 rows x 31 columns]"
      ]
     },
     "execution_count": 7,
     "metadata": {},
     "output_type": "execute_result"
    }
   ],
   "source": [
    "file = tf.keras.utils\n",
    "raw_df = pd.read_csv('https://storage.googleapis.com/download.tensorflow.org/data/creditcard.csv')\n",
    "raw_df.head()"
   ]
  },
  {
   "cell_type": "markdown",
   "metadata": {},
   "source": [
    "#### Data EDA (Exploratory Data Analysis)\n",
    "The Exploratory Data Analysis involves understanding features, spread and other descriptive statistics of the data"
   ]
  },
  {
   "cell_type": "code",
   "execution_count": 8,
   "metadata": {},
   "outputs": [],
   "source": [
    "credit_data=raw_df.copy()"
   ]
  },
  {
   "cell_type": "code",
   "execution_count": 9,
   "metadata": {
    "colab": {
     "base_uri": "https://localhost:8080/",
     "height": 217
    },
    "colab_type": "code",
    "id": "LzmnvBMKe13i",
    "outputId": "ee87fbdd-3249-4dbd-dc52-56a91167bd26"
   },
   "outputs": [
    {
     "data": {
      "text/html": [
       "<div>\n",
       "<style scoped>\n",
       "    .dataframe tbody tr th:only-of-type {\n",
       "        vertical-align: middle;\n",
       "    }\n",
       "\n",
       "    .dataframe tbody tr th {\n",
       "        vertical-align: top;\n",
       "    }\n",
       "\n",
       "    .dataframe thead th {\n",
       "        text-align: right;\n",
       "    }\n",
       "</style>\n",
       "<table border=\"1\" class=\"dataframe\">\n",
       "  <thead>\n",
       "    <tr style=\"text-align: right;\">\n",
       "      <th></th>\n",
       "      <th>Time</th>\n",
       "      <th>V1</th>\n",
       "      <th>V2</th>\n",
       "      <th>V3</th>\n",
       "      <th>V4</th>\n",
       "      <th>V5</th>\n",
       "      <th>V6</th>\n",
       "      <th>V7</th>\n",
       "      <th>V8</th>\n",
       "      <th>V9</th>\n",
       "      <th>...</th>\n",
       "      <th>V21</th>\n",
       "      <th>V22</th>\n",
       "      <th>V23</th>\n",
       "      <th>V24</th>\n",
       "      <th>V25</th>\n",
       "      <th>V26</th>\n",
       "      <th>V27</th>\n",
       "      <th>V28</th>\n",
       "      <th>Amount</th>\n",
       "      <th>Class</th>\n",
       "    </tr>\n",
       "  </thead>\n",
       "  <tbody>\n",
       "    <tr>\n",
       "      <th>0</th>\n",
       "      <td>0.0</td>\n",
       "      <td>-1.359807</td>\n",
       "      <td>-0.072781</td>\n",
       "      <td>2.536347</td>\n",
       "      <td>1.378155</td>\n",
       "      <td>-0.338321</td>\n",
       "      <td>0.462388</td>\n",
       "      <td>0.239599</td>\n",
       "      <td>0.098698</td>\n",
       "      <td>0.363787</td>\n",
       "      <td>...</td>\n",
       "      <td>-0.018307</td>\n",
       "      <td>0.277838</td>\n",
       "      <td>-0.110474</td>\n",
       "      <td>0.066928</td>\n",
       "      <td>0.128539</td>\n",
       "      <td>-0.189115</td>\n",
       "      <td>0.133558</td>\n",
       "      <td>-0.021053</td>\n",
       "      <td>149.62</td>\n",
       "      <td>0</td>\n",
       "    </tr>\n",
       "    <tr>\n",
       "      <th>1</th>\n",
       "      <td>0.0</td>\n",
       "      <td>1.191857</td>\n",
       "      <td>0.266151</td>\n",
       "      <td>0.166480</td>\n",
       "      <td>0.448154</td>\n",
       "      <td>0.060018</td>\n",
       "      <td>-0.082361</td>\n",
       "      <td>-0.078803</td>\n",
       "      <td>0.085102</td>\n",
       "      <td>-0.255425</td>\n",
       "      <td>...</td>\n",
       "      <td>-0.225775</td>\n",
       "      <td>-0.638672</td>\n",
       "      <td>0.101288</td>\n",
       "      <td>-0.339846</td>\n",
       "      <td>0.167170</td>\n",
       "      <td>0.125895</td>\n",
       "      <td>-0.008983</td>\n",
       "      <td>0.014724</td>\n",
       "      <td>2.69</td>\n",
       "      <td>0</td>\n",
       "    </tr>\n",
       "    <tr>\n",
       "      <th>2</th>\n",
       "      <td>1.0</td>\n",
       "      <td>-1.358354</td>\n",
       "      <td>-1.340163</td>\n",
       "      <td>1.773209</td>\n",
       "      <td>0.379780</td>\n",
       "      <td>-0.503198</td>\n",
       "      <td>1.800499</td>\n",
       "      <td>0.791461</td>\n",
       "      <td>0.247676</td>\n",
       "      <td>-1.514654</td>\n",
       "      <td>...</td>\n",
       "      <td>0.247998</td>\n",
       "      <td>0.771679</td>\n",
       "      <td>0.909412</td>\n",
       "      <td>-0.689281</td>\n",
       "      <td>-0.327642</td>\n",
       "      <td>-0.139097</td>\n",
       "      <td>-0.055353</td>\n",
       "      <td>-0.059752</td>\n",
       "      <td>378.66</td>\n",
       "      <td>0</td>\n",
       "    </tr>\n",
       "    <tr>\n",
       "      <th>3</th>\n",
       "      <td>1.0</td>\n",
       "      <td>-0.966272</td>\n",
       "      <td>-0.185226</td>\n",
       "      <td>1.792993</td>\n",
       "      <td>-0.863291</td>\n",
       "      <td>-0.010309</td>\n",
       "      <td>1.247203</td>\n",
       "      <td>0.237609</td>\n",
       "      <td>0.377436</td>\n",
       "      <td>-1.387024</td>\n",
       "      <td>...</td>\n",
       "      <td>-0.108300</td>\n",
       "      <td>0.005274</td>\n",
       "      <td>-0.190321</td>\n",
       "      <td>-1.175575</td>\n",
       "      <td>0.647376</td>\n",
       "      <td>-0.221929</td>\n",
       "      <td>0.062723</td>\n",
       "      <td>0.061458</td>\n",
       "      <td>123.50</td>\n",
       "      <td>0</td>\n",
       "    </tr>\n",
       "    <tr>\n",
       "      <th>4</th>\n",
       "      <td>2.0</td>\n",
       "      <td>-1.158233</td>\n",
       "      <td>0.877737</td>\n",
       "      <td>1.548718</td>\n",
       "      <td>0.403034</td>\n",
       "      <td>-0.407193</td>\n",
       "      <td>0.095921</td>\n",
       "      <td>0.592941</td>\n",
       "      <td>-0.270533</td>\n",
       "      <td>0.817739</td>\n",
       "      <td>...</td>\n",
       "      <td>-0.009431</td>\n",
       "      <td>0.798278</td>\n",
       "      <td>-0.137458</td>\n",
       "      <td>0.141267</td>\n",
       "      <td>-0.206010</td>\n",
       "      <td>0.502292</td>\n",
       "      <td>0.219422</td>\n",
       "      <td>0.215153</td>\n",
       "      <td>69.99</td>\n",
       "      <td>0</td>\n",
       "    </tr>\n",
       "  </tbody>\n",
       "</table>\n",
       "<p>5 rows × 31 columns</p>\n",
       "</div>"
      ],
      "text/plain": [
       "   Time        V1        V2        V3        V4        V5        V6        V7  \\\n",
       "0   0.0 -1.359807 -0.072781  2.536347  1.378155 -0.338321  0.462388  0.239599   \n",
       "1   0.0  1.191857  0.266151  0.166480  0.448154  0.060018 -0.082361 -0.078803   \n",
       "2   1.0 -1.358354 -1.340163  1.773209  0.379780 -0.503198  1.800499  0.791461   \n",
       "3   1.0 -0.966272 -0.185226  1.792993 -0.863291 -0.010309  1.247203  0.237609   \n",
       "4   2.0 -1.158233  0.877737  1.548718  0.403034 -0.407193  0.095921  0.592941   \n",
       "\n",
       "         V8        V9  ...       V21       V22       V23       V24       V25  \\\n",
       "0  0.098698  0.363787  ... -0.018307  0.277838 -0.110474  0.066928  0.128539   \n",
       "1  0.085102 -0.255425  ... -0.225775 -0.638672  0.101288 -0.339846  0.167170   \n",
       "2  0.247676 -1.514654  ...  0.247998  0.771679  0.909412 -0.689281 -0.327642   \n",
       "3  0.377436 -1.387024  ... -0.108300  0.005274 -0.190321 -1.175575  0.647376   \n",
       "4 -0.270533  0.817739  ... -0.009431  0.798278 -0.137458  0.141267 -0.206010   \n",
       "\n",
       "        V26       V27       V28  Amount  Class  \n",
       "0 -0.189115  0.133558 -0.021053  149.62      0  \n",
       "1  0.125895 -0.008983  0.014724    2.69      0  \n",
       "2 -0.139097 -0.055353 -0.059752  378.66      0  \n",
       "3 -0.221929  0.062723  0.061458  123.50      0  \n",
       "4  0.502292  0.219422  0.215153   69.99      0  \n",
       "\n",
       "[5 rows x 31 columns]"
      ]
     },
     "execution_count": 9,
     "metadata": {},
     "output_type": "execute_result"
    }
   ],
   "source": [
    "credit_data.head()"
   ]
  },
  {
   "cell_type": "code",
   "execution_count": 10,
   "metadata": {
    "colab": {},
    "colab_type": "code",
    "id": "XYR1bqVjr74v"
   },
   "outputs": [],
   "source": [
    "credit_data = credit_data.drop(\"Time\", axis = 1)"
   ]
  },
  {
   "cell_type": "code",
   "execution_count": 11,
   "metadata": {},
   "outputs": [
    {
     "data": {
      "text/plain": [
       "count    284807.00\n",
       "mean         88.35\n",
       "std         250.12\n",
       "min           0.00\n",
       "25%           5.60\n",
       "50%          22.00\n",
       "75%          77.16\n",
       "max       25691.16\n",
       "Name: Amount, dtype: float64"
      ]
     },
     "execution_count": 11,
     "metadata": {},
     "output_type": "execute_result"
    }
   ],
   "source": [
    "credit_data['Amount'].describe().round(2)"
   ]
  },
  {
   "cell_type": "markdown",
   "metadata": {},
   "source": [
    "***Findings:*** Note that the column amount has a different scale when compared to other columns which are a product of Principal Component have different scales. The dependent variable Class is highly imbalanced."
   ]
  },
  {
   "cell_type": "code",
   "execution_count": 12,
   "metadata": {},
   "outputs": [
    {
     "data": {
      "text/plain": [
       "0    284315\n",
       "1       492\n",
       "Name: Class, dtype: int64"
      ]
     },
     "execution_count": 12,
     "metadata": {},
     "output_type": "execute_result"
    }
   ],
   "source": [
    "credit_data['Class'].value_counts()"
   ]
  },
  {
   "cell_type": "code",
   "execution_count": 13,
   "metadata": {},
   "outputs": [
    {
     "data": {
      "image/png": "[encoded data removed]",
      "text/plain": [
       "<Figure size 1152x576 with 2 Axes>"
      ]
     },
     "metadata": {
      "needs_background": "light"
     },
     "output_type": "display_data"
    }
   ],
   "source": [
    "#---------------------------------------Getting Correlation Data----------------------------------------\n",
    "corr_data = credit_data.corr().round(2);\n",
    "\n",
    "fig, ax = plt.subplots()\n",
    "fig.set_size_inches(16, 8)\n",
    "\n",
    "#--------------------------------------Plotting a heat map of different variables---------------------------------\n",
    "plt.title('Heat Map of Correlation \\n',fontsize=15, pad=10)\n",
    "\n",
    "sns.heatmap(corr_data,annot=True,cmap='YlGnBu',vmin=-1,vmax=1, linewidths=.5, center=0);"
   ]
  },
  {
   "cell_type": "code",
   "execution_count": 19,
   "metadata": {
    "scrolled": true
   },
   "outputs": [
    {
     "data": {
      "image/png": "[encoded data removed]",
      "text/plain": [
       "<Figure size 1152x360 with 1 Axes>"
      ]
     },
     "metadata": {
      "needs_background": "light"
     },
     "output_type": "display_data"
    }
   ],
   "source": [
    "fig, ax = plt.subplots(figsize=(16,5));\n",
    "sns.boxplot(y='Amount', x='Class', data=credit_data[['Amount','Class']]);"
   ]
  },
  {
   "cell_type": "code",
   "execution_count": 20,
   "metadata": {
    "colab": {},
    "colab_type": "code",
    "id": "8jSUoRdjffH1"
   },
   "outputs": [],
   "source": [
    "X_data = credit_data.iloc[:, :-1]"
   ]
  },
  {
   "cell_type": "code",
   "execution_count": 21,
   "metadata": {
    "colab": {
     "base_uri": "https://localhost:8080/",
     "height": 34
    },
    "colab_type": "code",
    "id": "cI3wN8jqftKw",
    "outputId": "c5873a8f-bb7f-4585-f727-aff4cbfc7d6b"
   },
   "outputs": [
    {
     "data": {
      "text/plain": [
       "(284807, 29)"
      ]
     },
     "execution_count": 21,
     "metadata": {},
     "output_type": "execute_result"
    }
   ],
   "source": [
    "X_data.shape"
   ]
  },
  {
   "cell_type": "code",
   "execution_count": 22,
   "metadata": {
    "colab": {
     "base_uri": "https://localhost:8080/",
     "height": 217
    },
    "colab_type": "code",
    "id": "lNVt9nlwr4be",
    "outputId": "978198d9-ae57-404e-8558-54943481f552"
   },
   "outputs": [
    {
     "data": {
      "text/html": [
       "<div>\n",
       "<style scoped>\n",
       "    .dataframe tbody tr th:only-of-type {\n",
       "        vertical-align: middle;\n",
       "    }\n",
       "\n",
       "    .dataframe tbody tr th {\n",
       "        vertical-align: top;\n",
       "    }\n",
       "\n",
       "    .dataframe thead th {\n",
       "        text-align: right;\n",
       "    }\n",
       "</style>\n",
       "<table border=\"1\" class=\"dataframe\">\n",
       "  <thead>\n",
       "    <tr style=\"text-align: right;\">\n",
       "      <th></th>\n",
       "      <th>V1</th>\n",
       "      <th>V2</th>\n",
       "      <th>V3</th>\n",
       "      <th>V4</th>\n",
       "      <th>V5</th>\n",
       "      <th>V6</th>\n",
       "      <th>V7</th>\n",
       "      <th>V8</th>\n",
       "      <th>V9</th>\n",
       "      <th>V10</th>\n",
       "      <th>...</th>\n",
       "      <th>V20</th>\n",
       "      <th>V21</th>\n",
       "      <th>V22</th>\n",
       "      <th>V23</th>\n",
       "      <th>V24</th>\n",
       "      <th>V25</th>\n",
       "      <th>V26</th>\n",
       "      <th>V27</th>\n",
       "      <th>V28</th>\n",
       "      <th>Amount</th>\n",
       "    </tr>\n",
       "  </thead>\n",
       "  <tbody>\n",
       "    <tr>\n",
       "      <th>0</th>\n",
       "      <td>-1.359807</td>\n",
       "      <td>-0.072781</td>\n",
       "      <td>2.536347</td>\n",
       "      <td>1.378155</td>\n",
       "      <td>-0.338321</td>\n",
       "      <td>0.462388</td>\n",
       "      <td>0.239599</td>\n",
       "      <td>0.098698</td>\n",
       "      <td>0.363787</td>\n",
       "      <td>0.090794</td>\n",
       "      <td>...</td>\n",
       "      <td>0.251412</td>\n",
       "      <td>-0.018307</td>\n",
       "      <td>0.277838</td>\n",
       "      <td>-0.110474</td>\n",
       "      <td>0.066928</td>\n",
       "      <td>0.128539</td>\n",
       "      <td>-0.189115</td>\n",
       "      <td>0.133558</td>\n",
       "      <td>-0.021053</td>\n",
       "      <td>149.62</td>\n",
       "    </tr>\n",
       "    <tr>\n",
       "      <th>1</th>\n",
       "      <td>1.191857</td>\n",
       "      <td>0.266151</td>\n",
       "      <td>0.166480</td>\n",
       "      <td>0.448154</td>\n",
       "      <td>0.060018</td>\n",
       "      <td>-0.082361</td>\n",
       "      <td>-0.078803</td>\n",
       "      <td>0.085102</td>\n",
       "      <td>-0.255425</td>\n",
       "      <td>-0.166974</td>\n",
       "      <td>...</td>\n",
       "      <td>-0.069083</td>\n",
       "      <td>-0.225775</td>\n",
       "      <td>-0.638672</td>\n",
       "      <td>0.101288</td>\n",
       "      <td>-0.339846</td>\n",
       "      <td>0.167170</td>\n",
       "      <td>0.125895</td>\n",
       "      <td>-0.008983</td>\n",
       "      <td>0.014724</td>\n",
       "      <td>2.69</td>\n",
       "    </tr>\n",
       "    <tr>\n",
       "      <th>2</th>\n",
       "      <td>-1.358354</td>\n",
       "      <td>-1.340163</td>\n",
       "      <td>1.773209</td>\n",
       "      <td>0.379780</td>\n",
       "      <td>-0.503198</td>\n",
       "      <td>1.800499</td>\n",
       "      <td>0.791461</td>\n",
       "      <td>0.247676</td>\n",
       "      <td>-1.514654</td>\n",
       "      <td>0.207643</td>\n",
       "      <td>...</td>\n",
       "      <td>0.524980</td>\n",
       "      <td>0.247998</td>\n",
       "      <td>0.771679</td>\n",
       "      <td>0.909412</td>\n",
       "      <td>-0.689281</td>\n",
       "      <td>-0.327642</td>\n",
       "      <td>-0.139097</td>\n",
       "      <td>-0.055353</td>\n",
       "      <td>-0.059752</td>\n",
       "      <td>378.66</td>\n",
       "    </tr>\n",
       "    <tr>\n",
       "      <th>3</th>\n",
       "      <td>-0.966272</td>\n",
       "      <td>-0.185226</td>\n",
       "      <td>1.792993</td>\n",
       "      <td>-0.863291</td>\n",
       "      <td>-0.010309</td>\n",
       "      <td>1.247203</td>\n",
       "      <td>0.237609</td>\n",
       "      <td>0.377436</td>\n",
       "      <td>-1.387024</td>\n",
       "      <td>-0.054952</td>\n",
       "      <td>...</td>\n",
       "      <td>-0.208038</td>\n",
       "      <td>-0.108300</td>\n",
       "      <td>0.005274</td>\n",
       "      <td>-0.190321</td>\n",
       "      <td>-1.175575</td>\n",
       "      <td>0.647376</td>\n",
       "      <td>-0.221929</td>\n",
       "      <td>0.062723</td>\n",
       "      <td>0.061458</td>\n",
       "      <td>123.50</td>\n",
       "    </tr>\n",
       "    <tr>\n",
       "      <th>4</th>\n",
       "      <td>-1.158233</td>\n",
       "      <td>0.877737</td>\n",
       "      <td>1.548718</td>\n",
       "      <td>0.403034</td>\n",
       "      <td>-0.407193</td>\n",
       "      <td>0.095921</td>\n",
       "      <td>0.592941</td>\n",
       "      <td>-0.270533</td>\n",
       "      <td>0.817739</td>\n",
       "      <td>0.753074</td>\n",
       "      <td>...</td>\n",
       "      <td>0.408542</td>\n",
       "      <td>-0.009431</td>\n",
       "      <td>0.798278</td>\n",
       "      <td>-0.137458</td>\n",
       "      <td>0.141267</td>\n",
       "      <td>-0.206010</td>\n",
       "      <td>0.502292</td>\n",
       "      <td>0.219422</td>\n",
       "      <td>0.215153</td>\n",
       "      <td>69.99</td>\n",
       "    </tr>\n",
       "  </tbody>\n",
       "</table>\n",
       "<p>5 rows × 29 columns</p>\n",
       "</div>"
      ],
      "text/plain": [
       "         V1        V2        V3        V4        V5        V6        V7  \\\n",
       "0 -1.359807 -0.072781  2.536347  1.378155 -0.338321  0.462388  0.239599   \n",
       "1  1.191857  0.266151  0.166480  0.448154  0.060018 -0.082361 -0.078803   \n",
       "2 -1.358354 -1.340163  1.773209  0.379780 -0.503198  1.800499  0.791461   \n",
       "3 -0.966272 -0.185226  1.792993 -0.863291 -0.010309  1.247203  0.237609   \n",
       "4 -1.158233  0.877737  1.548718  0.403034 -0.407193  0.095921  0.592941   \n",
       "\n",
       "         V8        V9       V10  ...       V20       V21       V22       V23  \\\n",
       "0  0.098698  0.363787  0.090794  ...  0.251412 -0.018307  0.277838 -0.110474   \n",
       "1  0.085102 -0.255425 -0.166974  ... -0.069083 -0.225775 -0.638672  0.101288   \n",
       "2  0.247676 -1.514654  0.207643  ...  0.524980  0.247998  0.771679  0.909412   \n",
       "3  0.377436 -1.387024 -0.054952  ... -0.208038 -0.108300  0.005274 -0.190321   \n",
       "4 -0.270533  0.817739  0.753074  ...  0.408542 -0.009431  0.798278 -0.137458   \n",
       "\n",
       "        V24       V25       V26       V27       V28  Amount  \n",
       "0  0.066928  0.128539 -0.189115  0.133558 -0.021053  149.62  \n",
       "1 -0.339846  0.167170  0.125895 -0.008983  0.014724    2.69  \n",
       "2 -0.689281 -0.327642 -0.139097 -0.055353 -0.059752  378.66  \n",
       "3 -1.175575  0.647376 -0.221929  0.062723  0.061458  123.50  \n",
       "4  0.141267 -0.206010  0.502292  0.219422  0.215153   69.99  \n",
       "\n",
       "[5 rows x 29 columns]"
      ]
     },
     "execution_count": 22,
     "metadata": {},
     "output_type": "execute_result"
    }
   ],
   "source": [
    "X_data.head()"
   ]
  },
  {
   "cell_type": "code",
   "execution_count": 23,
   "metadata": {
    "colab": {},
    "colab_type": "code",
    "id": "Av0SeUasfxdd"
   },
   "outputs": [],
   "source": [
    "y_data = credit_data.iloc[:, -1]"
   ]
  },
  {
   "cell_type": "code",
   "execution_count": 24,
   "metadata": {
    "colab": {
     "base_uri": "https://localhost:8080/",
     "height": 34
    },
    "colab_type": "code",
    "id": "PxJAWm1pf2Pp",
    "outputId": "017959c2-1d23-41f8-a008-2ef741115dff"
   },
   "outputs": [
    {
     "data": {
      "text/plain": [
       "(284807,)"
      ]
     },
     "execution_count": 24,
     "metadata": {},
     "output_type": "execute_result"
    }
   ],
   "source": [
    "y_data.shape"
   ]
  },
  {
   "cell_type": "code",
   "execution_count": 25,
   "metadata": {
    "colab": {},
    "colab_type": "code",
    "id": "HeY6L0Pd1ZuF"
   },
   "outputs": [],
   "source": [
    "X_train, X_test, y_train, y_test = train_test_split(X_data, y_data, test_size = 0.2, random_state = 7)"
   ]
  },
  {
   "cell_type": "markdown",
   "metadata": {},
   "source": [
    "#### Data Scaling\n",
    "\n",
    "***Note:*** Amount and the PCA variables were using different scales, hence the dataset is normalized. Also note that normalization plays an important role in gradient descent. Convergence is much faster on Normalized Data."
   ]
  },
  {
   "cell_type": "code",
   "execution_count": 26,
   "metadata": {
    "colab": {},
    "colab_type": "code",
    "id": "MRNMm_VFf1py"
   },
   "outputs": [],
   "source": [
    "X_train = preprocessing.normalize(X_train)"
   ]
  },
  {
   "cell_type": "code",
   "execution_count": 27,
   "metadata": {
    "colab": {
     "base_uri": "https://localhost:8080/",
     "height": 87
    },
    "colab_type": "code",
    "id": "tTq5DsKV1ayv",
    "outputId": "48f5e6bb-fd2c-4f88-bae6-5a8c9d2dd64c"
   },
   "outputs": [
    {
     "name": "stdout",
     "output_type": "stream",
     "text": [
      "(227845, 29)\n",
      "(56962, 29)\n",
      "(227845,)\n",
      "(56962,)\n"
     ]
    }
   ],
   "source": [
    "print(X_train.shape)\n",
    "print(X_test.shape)\n",
    "print(y_train.shape)\n",
    "print(y_test.shape)"
   ]
  },
  {
   "cell_type": "markdown",
   "metadata": {
    "colab_type": "text",
    "id": "rK65fuEW1rNR"
   },
   "source": [
    "### Creating a model\n",
    "\n",
    "Keras model object can be created with Sequential class. Sequential groups a linear stack of layers into a tf.keras.Model. At the outset, the model is empty per se. It is completed by adding additional layers and compilation\n"
   ]
  },
  {
   "cell_type": "markdown",
   "metadata": {
    "colab_type": "text",
    "id": "PY-sWPLV1ymZ"
   },
   "source": [
    "### Adding layers [layers and activations]\n",
    "\n",
    "Keras layers can be added to the model. A Dense is a fully connected layer in Tensor flow (and other programs such as Keras). What this means is that every Neuron in a Dense layer will be fully connected to every Neuron in the prior layer.\n",
    "\n",
    "***Note:***\n",
    "It should be noted that as this is a classification problem, sigmoid layer (softmax for multi-class problems) should be added\n",
    "\n",
    "***More about weight Initializer***\n",
    "https://keras.io/api/layers/initializers/"
   ]
  },
  {
   "cell_type": "markdown",
   "metadata": {},
   "source": [
    "tf.keras.layers.Dense(\n",
    "    units, activation=None, use_bias=True, kernel_initializer='glorot_uniform',\n",
    "    bias_initializer='zeros', kernel_regularizer=None, bias_regularizer=None,\n",
    "    activity_regularizer=None, kernel_constraint=None, bias_constraint=None,\n",
    "    **kwargs\n",
    ")"
   ]
  },
  {
   "cell_type": "markdown",
   "metadata": {},
   "source": [
    "***Inputs to the Dense Function***\n",
    "1. units - Positive integer, dimensionality of the output space.\n",
    "2. activation - Activation function to use. If you don't specify anything, no activation is applied (ie. \"linear\" activation: a(x) = x).\n",
    "3. use_bias - Boolean, whether the layer uses a bias vector.\n",
    "4. kernel_initializer - Initializer for the kernel weights matrix.\n",
    "5. bias_initializer - Initializer for the bias vector.\n",
    "6. kernel_regularizer - Regularizer function applied to the kernel weights matrix.\n",
    "7. bias_regularizer - Regularizer function applied to the bias vector.\n",
    "8. activity_regularizer - Regularizer function applied to the output of the layer (its \"activation\").\n",
    "9. kernel_constraint - Constraint function applied to the kernel weights matrix.\n",
    "10. bias_constraint - Constraint function applied to the bias vector."
   ]
  },
  {
   "cell_type": "markdown",
   "metadata": {},
   "source": [
    "#### What could be the optimum number of neurons and hidden layers to start with\n",
    "\n",
    "https://www.heatonresearch.com/2017/06/01/hidden-layers.html#:~:text=The%20number%20of%20hidden%20neurons,size%20of%20the%20input%20layer.\n",
    "\n",
    "1. The number of hidden neurons can be between the size of the input layer and the size of the output layer.\n",
    "2. The number of hidden neurons can be 2/3 the size of the input layer, plus the size of the output layer.\n",
    "3. The number of hidden neurons can be less than twice the size of the input layer.\n",
    "\n",
    "***Number of Hidden Layers***\n",
    "\n",
    " 1 - Can approximate any function that contains a continuous mapping\n",
    "from one finite space to another.\n",
    "\n",
    " 2 - Can represent an arbitrary decision boundary to arbitrary accuracy\n",
    "with rational activation functions and can approximate any smooth\n",
    "mapping to any accuracy."
   ]
  },
  {
   "cell_type": "code",
   "execution_count": 28,
   "metadata": {
    "colab": {},
    "colab_type": "code",
    "id": "wSW0d2sX1w4Z"
   },
   "outputs": [],
   "source": [
    "model = Sequential(layers=None, name=None) #Default property of Sequential() is to have no layers\n",
    "model.add(Dense(10, input_shape = (29,), activation = 'tanh'))\n",
    "model.add(Dense(5, activation = 'tanh'))\n",
    "model.add(Dense(1, activation = 'sigmoid'))"
   ]
  },
  {
   "cell_type": "markdown",
   "metadata": {
    "colab_type": "text",
    "id": "Hk3MOIy12SU_"
   },
   "source": [
    "### Model compile [optimizers and loss functions]\n",
    "\n",
    "Keras model should be \"compiled\" prior to training. Optimizers are algorithms or methods used to change the attributes of your neural network such as weights and learning rate in order to reduce the losses. Optimization algorithms or strategies are responsible for reducing the losses and to provide the most accurate results possible.\n",
    "\n",
    "Types of loss (function) and optimizer should be designated\n"
   ]
  },
  {
   "cell_type": "markdown",
   "metadata": {},
   "source": [
    "***More about Optimizers***\n",
    "\n",
    "https://medium.com/@sdoshi579/optimizers-for-training-neural-network-59450d71caf6\n",
    "\n",
    "https://www.tensorflow.org/api_docs/python/tf/keras/optimizers\n",
    "\n",
    "***Adadelta:***\n",
    "\n",
    "Adadelta optimization is a stochastic gradient descent method that is based on adaptive learning rate per dimension to address two drawbacks:\n",
    "\n",
    "- The continual decay of learning rates throughout training\n",
    "- The need for a manually selected global learning rate\n",
    "\n",
    "Adadelta is a more robust extension of Adagrad that adapts learning rates based on a moving window of gradient updates, instead of accumulating all past gradients. This way, Adadelta continues learning even when many updates have been done. Compared to Adagrad, in the original version of Adadelta you don't have to set an initial learning rate. In this version, initial learning rate can be set, as in most other Keras optimizers.\n",
    "\n",
    "\n",
    "***Stochastic Gradient Descent:***\n",
    "\n",
    "It’s a variant of Gradient Descent. It tries to update the model’s parameters more frequently. In this, the model parameters are altered after computation of loss on each training example. So, if the dataset contains 1000 rows SGD will update the model parameters 1000 times in one cycle of dataset instead of one time as in Gradient Descent.\n",
    "\n",
    "\n",
    "***Adagrad:***\n",
    "\n",
    "One of the disadvantages of all the optimizers explained is that the learning rate is constant for all parameters and for each cycle. This optimizer changes the learning rate. It changes the learning rate ‘η’ for each parameter and at every time step ‘t’. It’s a type second order optimization algorithm. It works on the derivative of an error function.\n",
    "\n",
    "\n",
    "***ADAM:***\n",
    "\n",
    "Adam (Adaptive Moment Estimation) works with momentums of first and second order. The intuition behind the Adam is that we don’t want to roll so fast just because we can jump over the minimum, we want to decrease the velocity a little bit for a careful search. In addition to storing an exponentially decaying average of past squared gradients like AdaDelta, Adam also keeps an exponentially decaying average of past gradients M(t). M(t) and V(t) are values of the first moment which is the Mean and the second moment which is the uncentered variance of the gradients respectively.\n",
    "\n",
    "According to Kingma et al., 2014, the method is \"computationally efficient, has little memory requirement, invariant to diagonal rescaling of gradients, and is well suited for problems that are large in terms of data/parameters\"."
   ]
  },
  {
   "cell_type": "markdown",
   "metadata": {},
   "source": [
    "<img src=\"OPT1.gif\" style=\"width:400;height:400;\"> <img src=\"OPT1.gif\" style=\"width:400;height:400;\">"
   ]
  },
  {
   "cell_type": "markdown",
   "metadata": {},
   "source": [
    "***Compile the model***\n",
    "Before the model is ready for training, it needs a few more settings. These are added during the model's compile step:\n",
    "\n",
    "1. Loss function —This measures how accurate the model is during training. You want to minimize this function to \"steer\" the model in the right direction.\n",
    "2. Optimizer —This is how the model is updated based on the data it sees and its loss function.\n",
    "3. Metrics —Used to monitor the training and testing steps. The following example uses accuracy, the fraction of the images that are correctly classified."
   ]
  },
  {
   "cell_type": "code",
   "execution_count": 29,
   "metadata": {
    "colab": {},
    "colab_type": "code",
    "id": "7QyeAsLo2Nj0"
   },
   "outputs": [],
   "source": [
    "sgd = optimizers.Adam(lr = 0.001)"
   ]
  },
  {
   "cell_type": "code",
   "execution_count": 30,
   "metadata": {
    "colab": {},
    "colab_type": "code",
    "id": "f4hkSuwa2aFR"
   },
   "outputs": [],
   "source": [
    "model.compile(optimizer = sgd, loss = 'binary_crossentropy', metrics=['accuracy'])"
   ]
  },
  {
   "cell_type": "markdown",
   "metadata": {
    "colab_type": "text",
    "id": "0pgrwczG2dMz"
   },
   "source": [
    "### Summary of the model"
   ]
  },
  {
   "cell_type": "code",
   "execution_count": 31,
   "metadata": {
    "colab": {
     "base_uri": "https://localhost:8080/",
     "height": 265
    },
    "colab_type": "code",
    "id": "KnQIxKfn2baE",
    "outputId": "5bcc1421-6ca7-46e6-b92d-9aceb9422b43"
   },
   "outputs": [
    {
     "name": "stdout",
     "output_type": "stream",
     "text": [
      "Model: \"sequential\"\n",
      "_________________________________________________________________\n",
      "Layer (type)                 Output Shape              Param #   \n",
      "=================================================================\n",
      "dense (Dense)                (None, 10)                300       \n",
      "_________________________________________________________________\n",
      "dense_1 (Dense)              (None, 5)                 55        \n",
      "_________________________________________________________________\n",
      "dense_2 (Dense)              (None, 1)                 6         \n",
      "=================================================================\n",
      "Total params: 361\n",
      "Trainable params: 361\n",
      "Non-trainable params: 0\n",
      "_________________________________________________________________\n"
     ]
    }
   ],
   "source": [
    "model.summary()"
   ]
  },
  {
   "cell_type": "markdown",
   "metadata": {},
   "source": [
    "#### Let's try and understand the output above (Output explanation is using two layers):\n",
    "\n",
    "\n",
    "1. We have created a neural network with one input, two hidden, and an output layer\n",
    "2. The input layer has 29 variables and 10 neurons. So the Weight matrix will be of shape 10 x 29 and the bias matrix is of shape 10 x 1\n",
    "3. Total number of Parameters in layer 1 = 10 x 29 + 10 x 1 = 300\n",
    "4. The first layer has 64 output values using relu as the activation function. The second layer has 5 neurons and works with 10 inputs, hence the weight matrix is 5 x 10 and the bias matrix is 5 x 1\n",
    "5. Total Parameters in layer 2 = 5 x 10 + 5 x 1 = 55\n",
    "6. Finally, the output layer has one neuron but it has 5 different inputs from the hidden layer 2 and has a bias term, hence number of neurons = 5+1=6\n"
   ]
  },
  {
   "cell_type": "markdown",
   "metadata": {
    "colab_type": "text",
    "id": "GPP-Q5O-2iel"
   },
   "source": [
    "### Training [Forward pass and Backpropagation]\n",
    "\n",
    "Training the model"
   ]
  },
  {
   "cell_type": "code",
   "execution_count": 40,
   "metadata": {},
   "outputs": [],
   "source": [
    "import os\n",
    "root_logdir = os.path.join(os.curdir, \"my_logs\")\n",
    "\n",
    "def get_run_logdir():\n",
    "    import time\n",
    "    run_id = time.strftime(\"run_%Y_%m_%d-%H_%M_%S\")\n",
    "    return os.path.join(root_logdir, run_id)\n",
    "\n",
    "run_logdir = get_run_logdir() # e.g., './my_logs/run_2019_06_07-15_15_22'"
   ]
  },
  {
   "cell_type": "code",
   "execution_count": 41,
   "metadata": {},
   "outputs": [],
   "source": [
    "tensorboard_cb = keras.callbacks.TensorBoard(run_logdir)"
   ]
  },
  {
   "cell_type": "code",
   "execution_count": 42,
   "metadata": {
    "colab": {
     "base_uri": "https://localhost:8080/",
     "height": 407
    },
    "colab_type": "code",
    "id": "Nbj63utw2fHI",
    "outputId": "2aca85cb-acf9-4a7c-ed4e-d01605443970"
   },
   "outputs": [
    {
     "name": "stdout",
     "output_type": "stream",
     "text": [
      "Epoch 1/20\n",
      "114/114 [==============================] - 0s 3ms/step - loss: 0.0080 - accuracy: 0.9989\n",
      "Epoch 2/20\n",
      "114/114 [==============================] - 0s 2ms/step - loss: 0.0079 - accuracy: 0.9989\n",
      "Epoch 3/20\n",
      "114/114 [==============================] - 0s 2ms/step - loss: 0.0077 - accuracy: 0.9989\n",
      "Epoch 4/20\n",
      "114/114 [==============================] - 0s 2ms/step - loss: 0.0075 - accuracy: 0.9989\n",
      "Epoch 5/20\n",
      "114/114 [==============================] - 0s 2ms/step - loss: 0.0074 - accuracy: 0.9989\n",
      "Epoch 6/20\n",
      "114/114 [==============================] - 0s 2ms/step - loss: 0.0072 - accuracy: 0.9989\n",
      "Epoch 7/20\n",
      "114/114 [==============================] - 0s 2ms/step - loss: 0.0071 - accuracy: 0.9989\n",
      "Epoch 8/20\n",
      "114/114 [==============================] - 0s 2ms/step - loss: 0.0070 - accuracy: 0.9989\n",
      "Epoch 9/20\n",
      "114/114 [==============================] - 0s 2ms/step - loss: 0.0069 - accuracy: 0.9989\n",
      "Epoch 10/20\n",
      "114/114 [==============================] - 0s 2ms/step - loss: 0.0068 - accuracy: 0.9989\n",
      "Epoch 11/20\n",
      "114/114 [==============================] - 0s 2ms/step - loss: 0.0068 - accuracy: 0.9990\n",
      "Epoch 12/20\n",
      "114/114 [==============================] - 0s 2ms/step - loss: 0.0067 - accuracy: 0.9990\n",
      "Epoch 13/20\n",
      "114/114 [==============================] - 0s 2ms/step - loss: 0.0067 - accuracy: 0.9990\n",
      "Epoch 14/20\n",
      "114/114 [==============================] - 0s 2ms/step - loss: 0.0066 - accuracy: 0.9990\n",
      "Epoch 15/20\n",
      "114/114 [==============================] - 0s 2ms/step - loss: 0.0066 - accuracy: 0.9990\n",
      "Epoch 16/20\n",
      "114/114 [==============================] - 0s 2ms/step - loss: 0.0065 - accuracy: 0.9990\n",
      "Epoch 17/20\n",
      "114/114 [==============================] - 0s 2ms/step - loss: 0.0065 - accuracy: 0.9990\n",
      "Epoch 18/20\n",
      "114/114 [==============================] - 0s 2ms/step - loss: 0.0064 - accuracy: 0.9990\n",
      "Epoch 19/20\n",
      "114/114 [==============================] - 0s 2ms/step - loss: 0.0064 - accuracy: 0.9990\n",
      "Epoch 20/20\n",
      "114/114 [==============================] - 0s 2ms/step - loss: 0.0063 - accuracy: 0.9990\n"
     ]
    },
    {
     "data": {
      "text/plain": [
       "<tensorflow.python.keras.callbacks.History at 0x13f115d8588>"
      ]
     },
     "execution_count": 42,
     "metadata": {},
     "output_type": "execute_result"
    }
   ],
   "source": [
    "model.fit(X_train, y_train.values, batch_size = 2000, epochs = 20, verbose = 1, callbacks=[tensorboard_cb])\n",
    "# ,validation_split=0.20"
   ]
  },
  {
   "cell_type": "code",
   "execution_count": 44,
   "metadata": {},
   "outputs": [
    {
     "name": "stdout",
     "output_type": "stream",
     "text": [
      "The tensorboard extension is already loaded. To reload it, use:\n",
      "  %reload_ext tensorboard\n"
     ]
    },
    {
     "data": {
      "text/plain": [
       "Reusing TensorBoard on port 6006 (pid 68088), started 0:01:05 ago. (Use '!kill 68088' to kill it.)"
      ]
     },
     "metadata": {},
     "output_type": "display_data"
    },
    {
     "data": {
      "text/html": [
       "\n",
       "      <iframe id=\"tensorboard-frame-3c0cc6c76f2f04f7\" width=\"100%\" height=\"800\" frameborder=\"0\">\n",
       "      </iframe>\n",
       "      <script>\n",
       "        (function() {\n",
       "          const frame = document.getElementById(\"tensorboard-frame-3c0cc6c76f2f04f7\");\n",
       "          const url = new URL(\"/\", window.location);\n",
       "          url.port = 6006;\n",
       "          frame.src = url;\n",
       "        })();\n",
       "      </script>\n",
       "  "
      ],
      "text/plain": [
       "<IPython.core.display.HTML object>"
      ]
     },
     "metadata": {},
     "output_type": "display_data"
    }
   ],
   "source": [
    "%load_ext tensorboard\n",
    "%tensorboard --logdir=./my_logs --port=6006"
   ]
  },
  {
   "cell_type": "markdown",
   "metadata": {
    "colab_type": "text",
    "id": "lLPxzhrv2sxz"
   },
   "source": [
    "### Evaluation\n",
    "Keras model can be evaluated with evaluate() function\n",
    "\n",
    "Evaluation results are contained in a list\n",
    "\n"
   ]
  },
  {
   "cell_type": "code",
   "execution_count": 33,
   "metadata": {
    "colab": {},
    "colab_type": "code",
    "id": "7jXqwWxKodMj"
   },
   "outputs": [],
   "source": [
    "X_test = preprocessing.normalize(X_test)"
   ]
  },
  {
   "cell_type": "code",
   "execution_count": 34,
   "metadata": {
    "colab": {
     "base_uri": "https://localhost:8080/",
     "height": 54
    },
    "colab_type": "code",
    "id": "AAULjn-C2n6F",
    "outputId": "7adef48e-90f9-4bb9-d042-3dc548e985ff"
   },
   "outputs": [
    {
     "name": "stdout",
     "output_type": "stream",
     "text": [
      "1781/1781 [==============================] - 1s 614us/step - loss: 0.0086 - accuracy: 0.9989\n"
     ]
    }
   ],
   "source": [
    "results = model.evaluate(X_test, y_test.values)"
   ]
  },
  {
   "cell_type": "code",
   "execution_count": 35,
   "metadata": {
    "colab": {
     "base_uri": "https://localhost:8080/",
     "height": 52
    },
    "colab_type": "code",
    "id": "iWPCJvmY2w9Z",
    "outputId": "2ffb160e-5f07-40c2-8314-97d9756a9ecd"
   },
   "outputs": [
    {
     "name": "stdout",
     "output_type": "stream",
     "text": [
      "['loss', 'accuracy']\n",
      "[0.008588538505136967, 0.9988588690757751]\n"
     ]
    }
   ],
   "source": [
    "print(model.metrics_names)\n",
    "print(results)    "
   ]
  },
  {
   "cell_type": "code",
   "execution_count": 36,
   "metadata": {},
   "outputs": [
    {
     "data": {
      "text/html": [
       "<div>\n",
       "<style scoped>\n",
       "    .dataframe tbody tr th:only-of-type {\n",
       "        vertical-align: middle;\n",
       "    }\n",
       "\n",
       "    .dataframe tbody tr th {\n",
       "        vertical-align: top;\n",
       "    }\n",
       "\n",
       "    .dataframe thead th {\n",
       "        text-align: right;\n",
       "    }\n",
       "</style>\n",
       "<table border=\"1\" class=\"dataframe\">\n",
       "  <thead>\n",
       "    <tr style=\"text-align: right;\">\n",
       "      <th></th>\n",
       "      <th>Iteration</th>\n",
       "      <th>Method</th>\n",
       "      <th>Log Loss</th>\n",
       "      <th>Accuracy</th>\n",
       "    </tr>\n",
       "  </thead>\n",
       "  <tbody>\n",
       "    <tr>\n",
       "      <th>0</th>\n",
       "      <td>None</td>\n",
       "      <td>Adam - Check</td>\n",
       "      <td>0.008589</td>\n",
       "      <td>0.998859</td>\n",
       "    </tr>\n",
       "  </tbody>\n",
       "</table>\n",
       "</div>"
      ],
      "text/plain": [
       "  Iteration         Method  Log Loss  Accuracy\n",
       "0      None  Adam - Check   0.008589  0.998859"
      ]
     },
     "execution_count": 36,
     "metadata": {},
     "output_type": "execute_result"
    }
   ],
   "source": [
    "resultsDf = pd.DataFrame({'Iteration': None, 'Method':['Adam - Check '], 'Log Loss': results[0], 'Accuracy': results[1]})\n",
    "resultsDf = resultsDf[['Iteration', 'Method', 'Log Loss', 'Accuracy']]\n",
    "resultsDf"
   ]
  },
  {
   "cell_type": "markdown",
   "metadata": {
    "colab_type": "text",
    "id": "mFVCB24Zud4z"
   },
   "source": [
    "### Confusion Matrix"
   ]
  },
  {
   "cell_type": "code",
   "execution_count": 37,
   "metadata": {
    "colab": {
     "base_uri": "https://localhost:8080/",
     "height": 161
    },
    "colab_type": "code",
    "id": "6ws8ykhbrAdy",
    "outputId": "75292028-2feb-4657-aaf7-00f9c1d6c8ad"
   },
   "outputs": [
    {
     "name": "stdout",
     "output_type": "stream",
     "text": [
      "WARNING:tensorflow:From <ipython-input-37-b98c2c46a761>:1: Sequential.predict_classes (from tensorflow.python.keras.engine.sequential) is deprecated and will be removed after 2021-01-01.\n",
      "Instructions for updating:\n",
      "Please use instead:* `np.argmax(model.predict(x), axis=-1)`,   if your model does multi-class classification   (e.g. if it uses a `softmax` last-layer activation).* `(model.predict(x) > 0.5).astype(\"int32\")`,   if your model does binary classification   (e.g. if it uses a `sigmoid` last-layer activation).\n",
      "1781/1781 [==============================] - 1s 647us/step - loss: 0.0086 - accuracy: 0.9989\n",
      "Accuracy Model1 (Dropout): 0.9988588690757751\n",
      "Recall_score: 0.43\n",
      "Precision_score: 0.8431372549019608\n",
      "F-score: 0.5695364238410596\n"
     ]
    },
    {
     "data": {
      "text/plain": [
       "array([[56854,     8],\n",
       "       [   57,    43]], dtype=int64)"
      ]
     },
     "execution_count": 37,
     "metadata": {},
     "output_type": "execute_result"
    }
   ],
   "source": [
    "Y_pred_cls = model.predict_classes(X_test, batch_size=2000, verbose=0)\n",
    "\n",
    "print('Accuracy Model1 (Dropout): '+ str(model.evaluate(X_test,y_test.values)[1]))\n",
    "\n",
    "print('Recall_score: ' + str(recall_score(y_test.values,Y_pred_cls)))\n",
    "\n",
    "print('Precision_score: ' + str(precision_score(y_test.values, Y_pred_cls)))\n",
    "\n",
    "print('F-score: ' + str(f1_score(y_test.values,Y_pred_cls)))\n",
    "confusion_matrix(y_test.values, Y_pred_cls)"
   ]
  },
  {
   "cell_type": "code",
   "execution_count": 38,
   "metadata": {},
   "outputs": [],
   "source": [
    "model.save(\"my_keras_model.h5\")"
   ]
  },
  {
   "cell_type": "markdown",
   "metadata": {},
   "source": [
    "#### Hyper Tunning Model Parameters"
   ]
  },
  {
   "cell_type": "code",
   "execution_count": 94,
   "metadata": {},
   "outputs": [],
   "source": [
    "from tensorflow.keras import models\n",
    "# from tensorflow.keras import InputLayer"
   ]
  },
  {
   "cell_type": "code",
   "execution_count": 110,
   "metadata": {},
   "outputs": [],
   "source": [
    "def build_model(n_hidden_layer=1, n_neurons=10, input_shape=29):\n",
    "    \n",
    "    # create model\n",
    "    model = Sequential()\n",
    "    model.add(Dense(10, input_shape = (29,), activation = 'tanh'))\n",
    "\n",
    "    \n",
    "    \n",
    "    for layer in range(n_hidden_layer):\n",
    "        model.add(Dense(n_neurons, activation=\"tanh\"))\n",
    "\n",
    "    \n",
    "    \n",
    "    model.add(Dense(1, activation = 'sigmoid'))\n",
    "    \n",
    "    # Compile model\n",
    "    \n",
    "\n",
    "    model.compile(optimizer ='Adam', loss = 'binary_crossentropy', metrics=['accuracy'])\n",
    "    \n",
    "    return model"
   ]
  },
  {
   "cell_type": "code",
   "execution_count": 111,
   "metadata": {},
   "outputs": [
    {
     "data": {
      "text/plain": [
       "<tensorflow.python.keras.wrappers.scikit_learn.KerasClassifier at 0x13f1282f2c8>"
      ]
     },
     "execution_count": 111,
     "metadata": {},
     "output_type": "execute_result"
    }
   ],
   "source": [
    "from sklearn.base import clone\n",
    " \n",
    "keras_class = tf.keras.wrappers.scikit_learn.KerasClassifier(build_fn = build_model,nb_epoch = 100,\n",
    "                            batch_size=10)\n",
    "clone(keras_class)"
   ]
  },
  {
   "cell_type": "code",
   "execution_count": 112,
   "metadata": {},
   "outputs": [
    {
     "name": "stdout",
     "output_type": "stream",
     "text": [
      "22785/22785 [==============================] - 18s 803us/step - loss: 0.0097 - accuracy: 0.9983\n"
     ]
    },
    {
     "data": {
      "text/plain": [
       "<tensorflow.python.keras.callbacks.History at 0x13f12852548>"
      ]
     },
     "execution_count": 112,
     "metadata": {},
     "output_type": "execute_result"
    }
   ],
   "source": [
    "keras_class.fit(X_train, y_train.values)"
   ]
  },
  {
   "cell_type": "code",
   "execution_count": 114,
   "metadata": {},
   "outputs": [
    {
     "name": "stdout",
     "output_type": "stream",
     "text": [
      "Epoch 1/5\n",
      "15190/15190 [==============================] - 15s 994us/step - loss: 0.0093 - accuracy: 0.9987\n",
      "Epoch 2/5\n",
      "15190/15190 [==============================] - 17s 1ms/step - loss: 0.0057 - accuracy: 0.9989\n",
      "Epoch 3/5\n",
      "15190/15190 [==============================] - 15s 1ms/step - loss: 0.0051 - accuracy: 0.9990\n",
      "Epoch 4/5\n",
      "15190/15190 [==============================] - 15s 997us/step - loss: 0.0048 - accuracy: 0.9990\n",
      "Epoch 5/5\n",
      "15190/15190 [==============================] - 15s 1ms/step - loss: 0.0047 - accuracy: 0.9991\n",
      "7595/7595 [==============================] - 6s 741us/step - loss: 0.0039 - accuracy: 0.9993\n",
      "Epoch 1/5\n",
      "15190/15190 [==============================] - 15s 1ms/step - loss: 0.0094 - accuracy: 0.9988\n",
      "Epoch 2/5\n",
      "15190/15190 [==============================] - 15s 1ms/step - loss: 0.0055 - accuracy: 0.9990\n",
      "Epoch 3/5\n",
      "15190/15190 [==============================] - 15s 988us/step - loss: 0.0047 - accuracy: 0.9990\n",
      "Epoch 4/5\n",
      "15190/15190 [==============================] - 15s 982us/step - loss: 0.0044 - accuracy: 0.9991\n",
      "Epoch 5/5\n",
      "15190/15190 [==============================] - 18s 1ms/step - loss: 0.0042 - accuracy: 0.9992\n",
      "7595/7595 [==============================] - 7s 873us/step - loss: 0.0050 - accuracy: 0.9990\n",
      "Epoch 1/5\n",
      "15190/15190 [==============================] - 19s 1ms/step - loss: 0.0099 - accuracy: 0.9983\n",
      "Epoch 2/5\n",
      "15190/15190 [==============================] - 18s 1ms/step - loss: 0.0059 - accuracy: 0.9990\n",
      "Epoch 3/5\n",
      "15190/15190 [==============================] - 18s 1ms/step - loss: 0.0051 - accuracy: 0.9990\n",
      "Epoch 4/5\n",
      "15190/15190 [==============================] - 19s 1ms/step - loss: 0.0048 - accuracy: 0.9991\n",
      "Epoch 5/5\n",
      "15190/15190 [==============================] - 18s 1ms/step - loss: 0.0046 - accuracy: 0.9991\n",
      "7595/7595 [==============================] - 6s 783us/step - loss: 0.0038 - accuracy: 0.9992\n",
      "Epoch 1/5\n",
      "15190/15190 [==============================] - 16s 1ms/step - loss: 0.0095 - accuracy: 0.9987\n",
      "Epoch 2/5\n",
      "15190/15190 [==============================] - 18s 1ms/step - loss: 0.0057 - accuracy: 0.9989\n",
      "Epoch 3/5\n",
      "15190/15190 [==============================] - 16s 1ms/step - loss: 0.0051 - accuracy: 0.9990\n",
      "Epoch 4/5\n",
      "15190/15190 [==============================] - 16s 1ms/step - loss: 0.0048 - accuracy: 0.9990\n",
      "Epoch 5/5\n",
      "15190/15190 [==============================] - 16s 1ms/step - loss: 0.0047 - accuracy: 0.9990\n",
      "7595/7595 [==============================] - 6s 729us/step - loss: 0.0039 - accuracy: 0.9993\n",
      "Epoch 1/5\n",
      "15190/15190 [==============================] - 16s 1ms/step - loss: 0.0094 - accuracy: 0.9987\n",
      "Epoch 2/5\n",
      "15190/15190 [==============================] - 17s 1ms/step - loss: 0.0056 - accuracy: 0.9990\n",
      "Epoch 3/5\n",
      "15190/15190 [==============================] - 16s 1ms/step - loss: 0.0047 - accuracy: 0.9991\n",
      "Epoch 4/5\n",
      "15190/15190 [==============================] - 16s 1ms/step - loss: 0.0043 - accuracy: 0.9992\n",
      "Epoch 5/5\n",
      "15190/15190 [==============================] - 16s 1ms/step - loss: 0.0041 - accuracy: 0.9992\n",
      "7595/7595 [==============================] - 6s 779us/step - loss: 0.0049 - accuracy: 0.9990\n",
      "Epoch 1/5\n",
      "15190/15190 [==============================] - 16s 1ms/step - loss: 0.0093 - accuracy: 0.9987\n",
      "Epoch 2/5\n",
      "15190/15190 [==============================] - 16s 1ms/step - loss: 0.0061 - accuracy: 0.9989\n",
      "Epoch 3/5\n",
      "15190/15190 [==============================] - 17s 1ms/step - loss: 0.0052 - accuracy: 0.9990\n",
      "Epoch 4/5\n",
      "15190/15190 [==============================] - 16s 1ms/step - loss: 0.0048 - accuracy: 0.9991\n",
      "Epoch 5/5\n",
      "15190/15190 [==============================] - 17s 1ms/step - loss: 0.0046 - accuracy: 0.9991\n",
      "7595/7595 [==============================] - 6s 795us/step - loss: 0.0038 - accuracy: 0.9992\n",
      "Epoch 1/5\n",
      "15190/15190 [==============================] - 17s 1ms/step - loss: 0.0081 - accuracy: 0.9988\n",
      "Epoch 2/5\n",
      "15190/15190 [==============================] - 17s 1ms/step - loss: 0.0052 - accuracy: 0.9990\n",
      "Epoch 3/5\n",
      "15190/15190 [==============================] - 17s 1ms/step - loss: 0.0049 - accuracy: 0.9991\n",
      "Epoch 4/5\n",
      "15190/15190 [==============================] - 17s 1ms/step - loss: 0.0046 - accuracy: 0.9991\n",
      "Epoch 5/5\n",
      "15190/15190 [==============================] - 17s 1ms/step - loss: 0.0044 - accuracy: 0.9991\n",
      "7595/7595 [==============================] - 6s 791us/step - loss: 0.0038 - accuracy: 0.9993\n",
      "Epoch 1/5\n",
      "15190/15190 [==============================] - 17s 1ms/step - loss: 0.0082 - accuracy: 0.9989\n",
      "Epoch 2/5\n",
      "15190/15190 [==============================] - 17s 1ms/step - loss: 0.0048 - accuracy: 0.9991\n",
      "Epoch 3/5\n",
      "15190/15190 [==============================] - 19s 1ms/step - loss: 0.0043 - accuracy: 0.9992\n",
      "Epoch 4/5\n",
      "15190/15190 [==============================] - 20s 1ms/step - loss: 0.0041 - accuracy: 0.9992\n",
      "Epoch 5/5\n",
      "15190/15190 [==============================] - 19s 1ms/step - loss: 0.0039 - accuracy: 0.9992\n",
      "7595/7595 [==============================] - 6s 787us/step - loss: 0.0046 - accuracy: 0.9991\n",
      "Epoch 1/5\n",
      "15190/15190 [==============================] - 17s 1ms/step - loss: 0.0090 - accuracy: 0.9988\n",
      "Epoch 2/5\n",
      "15190/15190 [==============================] - 16s 1ms/step - loss: 0.0053 - accuracy: 0.9990\n",
      "Epoch 3/5\n",
      "15190/15190 [==============================] - 16s 1ms/step - loss: 0.0048 - accuracy: 0.9991\n",
      "Epoch 4/5\n",
      "15190/15190 [==============================] - 22s 1ms/step - loss: 0.0045 - accuracy: 0.9991\n",
      "Epoch 5/5\n",
      "15190/15190 [==============================] - 18s 1ms/step - loss: 0.0043 - accuracy: 0.9992\n",
      "7595/7595 [==============================] - 6s 778us/step - loss: 0.0034 - accuracy: 0.9993\n",
      "Epoch 1/5\n",
      "15190/15190 [==============================] - 17s 1ms/step - loss: 0.0080 - accuracy: 0.9988\n",
      "Epoch 2/5\n",
      "15190/15190 [==============================] - 17s 1ms/step - loss: 0.0052 - accuracy: 0.9990\n",
      "Epoch 3/5\n",
      "15190/15190 [==============================] - 21s 1ms/step - loss: 0.0049 - accuracy: 0.9990\n",
      "Epoch 4/5\n",
      "15190/15190 [==============================] - 19s 1ms/step - loss: 0.0046 - accuracy: 0.9991\n",
      "Epoch 5/5\n",
      "15190/15190 [==============================] - 19s 1ms/step - loss: 0.0043 - accuracy: 0.9992\n",
      "7595/7595 [==============================] - 7s 872us/step - loss: 0.0037 - accuracy: 0.9993\n",
      "Epoch 1/5\n",
      "15190/15190 [==============================] - 19s 1ms/step - loss: 0.0076 - accuracy: 0.9990\n",
      "Epoch 2/5\n",
      "15190/15190 [==============================] - 26s 2ms/step - loss: 0.0047 - accuracy: 0.9991\n",
      "Epoch 3/5\n",
      "15190/15190 [==============================] - 27s 2ms/step - loss: 0.0043 - accuracy: 0.9992\n",
      "Epoch 4/5\n",
      "15190/15190 [==============================] - 25s 2ms/step - loss: 0.0040 - accuracy: 0.9992\n",
      "Epoch 5/5\n",
      "15190/15190 [==============================] - 24s 2ms/step - loss: 0.0037 - accuracy: 0.9993\n",
      "7595/7595 [==============================] - 9s 1ms/step - loss: 0.0045 - accuracy: 0.9991\n",
      "Epoch 1/5\n",
      "15190/15190 [==============================] - 25s 2ms/step - loss: 0.0084 - accuracy: 0.9988\n",
      "Epoch 2/5\n",
      "15190/15190 [==============================] - 27s 2ms/step - loss: 0.0056 - accuracy: 0.9990\n",
      "Epoch 3/5\n",
      "15190/15190 [==============================] - 25s 2ms/step - loss: 0.0050 - accuracy: 0.9991\n",
      "Epoch 4/5\n",
      "15190/15190 [==============================] - 24s 2ms/step - loss: 0.0046 - accuracy: 0.9991\n",
      "Epoch 5/5\n",
      "15190/15190 [==============================] - 24s 2ms/step - loss: 0.0043 - accuracy: 0.9992\n",
      "7595/7595 [==============================] - 10s 1ms/step - loss: 0.0038 - accuracy: 0.9993\n",
      "Epoch 1/5\n",
      "15190/15190 [==============================] - 27s 2ms/step - loss: 0.0080 - accuracy: 0.9988\n",
      "Epoch 2/5\n",
      "15190/15190 [==============================] - 25s 2ms/step - loss: 0.0052 - accuracy: 0.9990\n",
      "Epoch 3/5\n",
      "15190/15190 [==============================] - 24s 2ms/step - loss: 0.0049 - accuracy: 0.9991\n",
      "Epoch 4/5\n",
      "15190/15190 [==============================] - 24s 2ms/step - loss: 0.0046 - accuracy: 0.9991\n",
      "Epoch 5/5\n",
      "15190/15190 [==============================] - 25s 2ms/step - loss: 0.0044 - accuracy: 0.9992\n",
      "7595/7595 [==============================] - 9s 1ms/step - loss: 0.0038 - accuracy: 0.9993\n",
      "Epoch 1/5\n",
      "15190/15190 [==============================] - 26s 2ms/step - loss: 0.0076 - accuracy: 0.9987\n",
      "Epoch 2/5\n",
      "15190/15190 [==============================] - 24s 2ms/step - loss: 0.0041 - accuracy: 0.9992\n",
      "Epoch 3/5\n"
     ]
    },
    {
     "name": "stdout",
     "output_type": "stream",
     "text": [
      "15190/15190 [==============================] - 24s 2ms/step - loss: 0.0037 - accuracy: 0.9993\n",
      "Epoch 4/5\n",
      "15190/15190 [==============================] - 24s 2ms/step - loss: 0.0034 - accuracy: 0.9994\n",
      "Epoch 5/5\n",
      "15190/15190 [==============================] - 24s 2ms/step - loss: 0.0035 - accuracy: 0.9993\n",
      "7595/7595 [==============================] - 9s 1ms/step - loss: 0.0043 - accuracy: 0.9992\n",
      "Epoch 1/5\n",
      "15190/15190 [==============================] - 24s 2ms/step - loss: 0.0081 - accuracy: 0.9988\n",
      "Epoch 2/5\n",
      "15190/15190 [==============================] - 24s 2ms/step - loss: 0.0049 - accuracy: 0.9991\n",
      "Epoch 3/5\n",
      "15190/15190 [==============================] - 24s 2ms/step - loss: 0.0043 - accuracy: 0.9992\n",
      "Epoch 4/5\n",
      "15190/15190 [==============================] - 22s 1ms/step - loss: 0.0042 - accuracy: 0.9992\n",
      "Epoch 5/5\n",
      "15190/15190 [==============================] - 23s 2ms/step - loss: 0.0041 - accuracy: 0.9993\n",
      "7595/7595 [==============================] - 8s 1ms/step - loss: 0.0035 - accuracy: 0.9993\n",
      "Epoch 1/5\n",
      "15190/15190 [==============================] - 25s 2ms/step - loss: 0.0076 - accuracy: 0.9987\n",
      "Epoch 2/5\n",
      "15190/15190 [==============================] - 26s 2ms/step - loss: 0.0053 - accuracy: 0.9990\n",
      "Epoch 3/5\n",
      "15190/15190 [==============================] - 25s 2ms/step - loss: 0.0050 - accuracy: 0.9991\n",
      "Epoch 4/5\n",
      "15190/15190 [==============================] - 25s 2ms/step - loss: 0.0047 - accuracy: 0.9991\n",
      "Epoch 5/5\n",
      "15190/15190 [==============================] - 25s 2ms/step - loss: 0.0045 - accuracy: 0.9992\n",
      "7595/7595 [==============================] - 9s 1ms/step - loss: 0.0042 - accuracy: 0.9993\n",
      "Epoch 1/5\n",
      "15190/15190 [==============================] - 24s 2ms/step - loss: 0.0076 - accuracy: 0.9989\n",
      "Epoch 2/5\n",
      "15190/15190 [==============================] - 24s 2ms/step - loss: 0.0049 - accuracy: 0.9990\n",
      "Epoch 3/5\n",
      "15190/15190 [==============================] - 24s 2ms/step - loss: 0.0044 - accuracy: 0.9992\n",
      "Epoch 4/5\n",
      "15190/15190 [==============================] - 26s 2ms/step - loss: 0.0041 - accuracy: 0.9993\n",
      "Epoch 5/5\n",
      "15190/15190 [==============================] - 24s 2ms/step - loss: 0.0039 - accuracy: 0.9993\n",
      "7595/7595 [==============================] - 9s 1ms/step - loss: 0.0047 - accuracy: 0.9991\n",
      "Epoch 1/5\n",
      "15190/15190 [==============================] - 24s 2ms/step - loss: 0.0081 - accuracy: 0.9985\n",
      "Epoch 2/5\n",
      "15190/15190 [==============================] - 25s 2ms/step - loss: 0.0050 - accuracy: 0.9991\n",
      "Epoch 3/5\n",
      "15190/15190 [==============================] - 25s 2ms/step - loss: 0.0046 - accuracy: 0.9991\n",
      "Epoch 4/5\n",
      "15190/15190 [==============================] - 24s 2ms/step - loss: 0.0044 - accuracy: 0.9992\n",
      "Epoch 5/5\n",
      "15190/15190 [==============================] - 24s 2ms/step - loss: 0.0042 - accuracy: 0.9992\n",
      "7595/7595 [==============================] - 9s 1ms/step - loss: 0.0032 - accuracy: 0.9994\n",
      "Epoch 1/5\n",
      "22785/22785 [==============================] - 36s 2ms/step - loss: 0.0069 - accuracy: 0.9988\n",
      "Epoch 2/5\n",
      "22785/22785 [==============================] - 36s 2ms/step - loss: 0.0051 - accuracy: 0.9990\n",
      "Epoch 3/5\n",
      "22785/22785 [==============================] - 35s 2ms/step - loss: 0.0044 - accuracy: 0.9992\n",
      "Epoch 4/5\n",
      "22785/22785 [==============================] - 37s 2ms/step - loss: 0.0041 - accuracy: 0.9993\n",
      "Epoch 5/5\n",
      "22785/22785 [==============================] - 36s 2ms/step - loss: 0.0039 - accuracy: 0.9993\n"
     ]
    },
    {
     "data": {
      "text/plain": [
       "RandomizedSearchCV(cv=3,\n",
       "                   estimator=<tensorflow.python.keras.wrappers.scikit_learn.KerasClassifier object at 0x0000013F1282F288>,\n",
       "                   param_distributions={'n_hidden_layer': [1, 2, 3],\n",
       "                                        'n_neurons': [20, 30]})"
      ]
     },
     "execution_count": 114,
     "metadata": {},
     "output_type": "execute_result"
    }
   ],
   "source": [
    "from scipy.stats import reciprocal\n",
    "from sklearn.model_selection import RandomizedSearchCV\n",
    "\n",
    "param_distribs = {\n",
    "    \"n_hidden_layer\": [1, 2, 3],\n",
    "    \"n_neurons\": [20, 30],\n",
    "#     \"learning_rate\": reciprocal(3e-4, 3e-2),\n",
    "#     \"opt\":['Adam']\n",
    "}\n",
    "\n",
    "rnd_search_cv = RandomizedSearchCV(keras_class, param_distribs, n_iter=10, cv=3)\n",
    "\n",
    "rnd_search_cv.fit(X_train, y_train.values, epochs=5)"
   ]
  },
  {
   "cell_type": "code",
   "execution_count": 115,
   "metadata": {},
   "outputs": [
    {
     "data": {
      "text/plain": [
       "{'n_neurons': 30, 'n_hidden_layer': 3}"
      ]
     },
     "execution_count": 115,
     "metadata": {},
     "output_type": "execute_result"
    }
   ],
   "source": [
    "rnd_search_cv.best_params_\n"
   ]
  },
  {
   "cell_type": "markdown",
   "metadata": {},
   "source": [
    "#### Optional - Understanding Loss function w.r.t to multiple optimizer over multiple iteration"
   ]
  },
  {
   "cell_type": "markdown",
   "metadata": {},
   "source": [
    "*** Update the number of neurons, shape and activation function under the create_model() function based on what you used before ***"
   ]
  },
  {
   "cell_type": "code",
   "execution_count": 116,
   "metadata": {},
   "outputs": [],
   "source": [
    "def create_model(opt):\n",
    "    \n",
    "    # create model\n",
    "    model = Sequential(layers=None, name=None)\n",
    "    model.add(Dense(10, input_shape = (29,), activation = 'tanh'))\n",
    "    model.add(Dense(5, activation = 'tanh'))\n",
    "    model.add(Dense(1, activation = 'sigmoid'))\n",
    "    \n",
    "    # Compile model\n",
    "    model.compile(optimizer = opt, loss = 'binary_crossentropy', metrics=['accuracy'])\n",
    "    \n",
    "    return model"
   ]
  },
  {
   "cell_type": "markdown",
   "metadata": {},
   "source": [
    "*** Add a list of optimizers in the optimizer list below, e.g. optimizer=['Adam', 'SGD'] etc.***"
   ]
  },
  {
   "cell_type": "code",
   "execution_count": 117,
   "metadata": {},
   "outputs": [],
   "source": [
    "optimizer=['Adam','SGD']"
   ]
  },
  {
   "cell_type": "code",
   "execution_count": 118,
   "metadata": {},
   "outputs": [
    {
     "name": "stdout",
     "output_type": "stream",
     "text": [
      "Iteration: 1\n",
      "Iteration: 2\n",
      "Iteration: 3\n",
      "Iteration: 4\n",
      "Iteration: 5\n",
      "Iteration: 6\n",
      "Iteration: 7\n",
      "Iteration: 8\n",
      "Iteration: 9\n",
      "Iteration: 10\n"
     ]
    }
   ],
   "source": [
    "for j in range(1,11):\n",
    "    \n",
    "    print(\"Iteration:\",j)\n",
    "    \n",
    "    for i in optimizer:\n",
    "        \n",
    "        mod=create_model(i)\n",
    "#         print(\"Model:\",i,end=' ')\n",
    "        mod.fit(X_train, y_train.values, batch_size = 700, epochs = j, verbose = 0)\n",
    "        results = mod.evaluate(X_test, y_test.values, verbose=0)\n",
    "        #print(mod.metrics_names)\n",
    "#         print(results)\n",
    "        \n",
    "        tempResultsDf = pd.DataFrame({'Iteration': j, 'Method':[i], 'Accuracy': results[1], 'Log Loss': results[0]})\n",
    "        resultsDf = pd.concat([resultsDf, tempResultsDf])\n",
    "        resultsDf = resultsDf[['Iteration', 'Method', 'Accuracy', 'Log Loss']]\n",
    "#         resultsDf"
   ]
  },
  {
   "cell_type": "code",
   "execution_count": 119,
   "metadata": {},
   "outputs": [
    {
     "data": {
      "text/html": [
       "<div>\n",
       "<style scoped>\n",
       "    .dataframe tbody tr th:only-of-type {\n",
       "        vertical-align: middle;\n",
       "    }\n",
       "\n",
       "    .dataframe tbody tr th {\n",
       "        vertical-align: top;\n",
       "    }\n",
       "\n",
       "    .dataframe thead th {\n",
       "        text-align: right;\n",
       "    }\n",
       "</style>\n",
       "<table border=\"1\" class=\"dataframe\">\n",
       "  <thead>\n",
       "    <tr style=\"text-align: right;\">\n",
       "      <th></th>\n",
       "      <th>Iteration</th>\n",
       "      <th>Method</th>\n",
       "      <th>Accuracy</th>\n",
       "      <th>Log Loss</th>\n",
       "    </tr>\n",
       "  </thead>\n",
       "  <tbody>\n",
       "    <tr>\n",
       "      <th>0</th>\n",
       "      <td>1</td>\n",
       "      <td>Adam</td>\n",
       "      <td>0.998244</td>\n",
       "      <td>0.046188</td>\n",
       "    </tr>\n",
       "    <tr>\n",
       "      <th>0</th>\n",
       "      <td>1</td>\n",
       "      <td>SGD</td>\n",
       "      <td>0.998244</td>\n",
       "      <td>0.090253</td>\n",
       "    </tr>\n",
       "    <tr>\n",
       "      <th>0</th>\n",
       "      <td>2</td>\n",
       "      <td>Adam</td>\n",
       "      <td>0.998578</td>\n",
       "      <td>0.017250</td>\n",
       "    </tr>\n",
       "    <tr>\n",
       "      <th>0</th>\n",
       "      <td>2</td>\n",
       "      <td>SGD</td>\n",
       "      <td>0.998244</td>\n",
       "      <td>0.041868</td>\n",
       "    </tr>\n",
       "    <tr>\n",
       "      <th>0</th>\n",
       "      <td>3</td>\n",
       "      <td>Adam</td>\n",
       "      <td>0.998683</td>\n",
       "      <td>0.015381</td>\n",
       "    </tr>\n",
       "    <tr>\n",
       "      <th>0</th>\n",
       "      <td>3</td>\n",
       "      <td>SGD</td>\n",
       "      <td>0.998244</td>\n",
       "      <td>0.025408</td>\n",
       "    </tr>\n",
       "    <tr>\n",
       "      <th>0</th>\n",
       "      <td>4</td>\n",
       "      <td>Adam</td>\n",
       "      <td>0.998789</td>\n",
       "      <td>0.012305</td>\n",
       "    </tr>\n",
       "    <tr>\n",
       "      <th>0</th>\n",
       "      <td>4</td>\n",
       "      <td>SGD</td>\n",
       "      <td>0.998244</td>\n",
       "      <td>0.025776</td>\n",
       "    </tr>\n",
       "    <tr>\n",
       "      <th>0</th>\n",
       "      <td>5</td>\n",
       "      <td>Adam</td>\n",
       "      <td>0.998841</td>\n",
       "      <td>0.011231</td>\n",
       "    </tr>\n",
       "    <tr>\n",
       "      <th>0</th>\n",
       "      <td>5</td>\n",
       "      <td>SGD</td>\n",
       "      <td>0.998244</td>\n",
       "      <td>0.024537</td>\n",
       "    </tr>\n",
       "    <tr>\n",
       "      <th>0</th>\n",
       "      <td>6</td>\n",
       "      <td>Adam</td>\n",
       "      <td>0.998859</td>\n",
       "      <td>0.012890</td>\n",
       "    </tr>\n",
       "    <tr>\n",
       "      <th>0</th>\n",
       "      <td>6</td>\n",
       "      <td>SGD</td>\n",
       "      <td>0.998244</td>\n",
       "      <td>0.018215</td>\n",
       "    </tr>\n",
       "    <tr>\n",
       "      <th>0</th>\n",
       "      <td>7</td>\n",
       "      <td>Adam</td>\n",
       "      <td>0.998859</td>\n",
       "      <td>0.008612</td>\n",
       "    </tr>\n",
       "    <tr>\n",
       "      <th>0</th>\n",
       "      <td>7</td>\n",
       "      <td>SGD</td>\n",
       "      <td>0.998244</td>\n",
       "      <td>0.015712</td>\n",
       "    </tr>\n",
       "    <tr>\n",
       "      <th>0</th>\n",
       "      <td>8</td>\n",
       "      <td>Adam</td>\n",
       "      <td>0.998859</td>\n",
       "      <td>0.008491</td>\n",
       "    </tr>\n",
       "    <tr>\n",
       "      <th>0</th>\n",
       "      <td>8</td>\n",
       "      <td>SGD</td>\n",
       "      <td>0.998244</td>\n",
       "      <td>0.015635</td>\n",
       "    </tr>\n",
       "    <tr>\n",
       "      <th>0</th>\n",
       "      <td>9</td>\n",
       "      <td>Adam</td>\n",
       "      <td>0.998894</td>\n",
       "      <td>0.008110</td>\n",
       "    </tr>\n",
       "    <tr>\n",
       "      <th>0</th>\n",
       "      <td>9</td>\n",
       "      <td>SGD</td>\n",
       "      <td>0.998244</td>\n",
       "      <td>0.014101</td>\n",
       "    </tr>\n",
       "    <tr>\n",
       "      <th>0</th>\n",
       "      <td>10</td>\n",
       "      <td>Adam</td>\n",
       "      <td>0.998947</td>\n",
       "      <td>0.007637</td>\n",
       "    </tr>\n",
       "    <tr>\n",
       "      <th>0</th>\n",
       "      <td>10</td>\n",
       "      <td>SGD</td>\n",
       "      <td>0.998244</td>\n",
       "      <td>0.014905</td>\n",
       "    </tr>\n",
       "  </tbody>\n",
       "</table>\n",
       "</div>"
      ],
      "text/plain": [
       "  Iteration Method  Accuracy  Log Loss\n",
       "0         1   Adam  0.998244  0.046188\n",
       "0         1    SGD  0.998244  0.090253\n",
       "0         2   Adam  0.998578  0.017250\n",
       "0         2    SGD  0.998244  0.041868\n",
       "0         3   Adam  0.998683  0.015381\n",
       "0         3    SGD  0.998244  0.025408\n",
       "0         4   Adam  0.998789  0.012305\n",
       "0         4    SGD  0.998244  0.025776\n",
       "0         5   Adam  0.998841  0.011231\n",
       "0         5    SGD  0.998244  0.024537\n",
       "0         6   Adam  0.998859  0.012890\n",
       "0         6    SGD  0.998244  0.018215\n",
       "0         7   Adam  0.998859  0.008612\n",
       "0         7    SGD  0.998244  0.015712\n",
       "0         8   Adam  0.998859  0.008491\n",
       "0         8    SGD  0.998244  0.015635\n",
       "0         9   Adam  0.998894  0.008110\n",
       "0         9    SGD  0.998244  0.014101\n",
       "0        10   Adam  0.998947  0.007637\n",
       "0        10    SGD  0.998244  0.014905"
      ]
     },
     "execution_count": 119,
     "metadata": {},
     "output_type": "execute_result"
    }
   ],
   "source": [
    "resultsDf=resultsDf[resultsDf['Iteration']>0]\n",
    "resultsDf"
   ]
  },
  {
   "cell_type": "code",
   "execution_count": 120,
   "metadata": {},
   "outputs": [
    {
     "data": {
      "image/png": "[encoded data removed]",
      "text/plain": [
       "<Figure size 1152x576 with 1 Axes>"
      ]
     },
     "metadata": {
      "needs_background": "light"
     },
     "output_type": "display_data"
    }
   ],
   "source": [
    "fig, ax = plt.subplots(figsize=(16,8)); #-----------------Setting size of the canvas\n",
    "\n",
    "plt.title('Change in Loss Function with Iteration', fontsize=15, pad=10) \n",
    "#---------------------Title of the chart\n",
    "\n",
    "\n",
    "sns.lineplot(x=resultsDf['Iteration'],y=resultsDf['Log Loss'],hue=resultsDf['Method']);\n",
    "\n",
    "\n",
    "ax.set(xlabel='Iteration', ylabel='Loss');"
   ]
  },
  {
   "cell_type": "code",
   "execution_count": 121,
   "metadata": {},
   "outputs": [
    {
     "data": {
      "text/html": [
       "<div>\n",
       "<style scoped>\n",
       "    .dataframe tbody tr th:only-of-type {\n",
       "        vertical-align: middle;\n",
       "    }\n",
       "\n",
       "    .dataframe tbody tr th {\n",
       "        vertical-align: top;\n",
       "    }\n",
       "\n",
       "    .dataframe thead th {\n",
       "        text-align: right;\n",
       "    }\n",
       "</style>\n",
       "<table border=\"1\" class=\"dataframe\">\n",
       "  <thead>\n",
       "    <tr style=\"text-align: right;\">\n",
       "      <th></th>\n",
       "      <th>Iteration</th>\n",
       "      <th>Method</th>\n",
       "      <th>Accuracy</th>\n",
       "      <th>Log Loss</th>\n",
       "    </tr>\n",
       "  </thead>\n",
       "  <tbody>\n",
       "    <tr>\n",
       "      <th>0</th>\n",
       "      <td>1</td>\n",
       "      <td>Adam</td>\n",
       "      <td>0.998244</td>\n",
       "      <td>0.046188</td>\n",
       "    </tr>\n",
       "    <tr>\n",
       "      <th>0</th>\n",
       "      <td>1</td>\n",
       "      <td>SGD</td>\n",
       "      <td>0.998244</td>\n",
       "      <td>0.090253</td>\n",
       "    </tr>\n",
       "    <tr>\n",
       "      <th>0</th>\n",
       "      <td>2</td>\n",
       "      <td>Adam</td>\n",
       "      <td>0.998578</td>\n",
       "      <td>0.017250</td>\n",
       "    </tr>\n",
       "    <tr>\n",
       "      <th>0</th>\n",
       "      <td>2</td>\n",
       "      <td>SGD</td>\n",
       "      <td>0.998244</td>\n",
       "      <td>0.041868</td>\n",
       "    </tr>\n",
       "    <tr>\n",
       "      <th>0</th>\n",
       "      <td>3</td>\n",
       "      <td>Adam</td>\n",
       "      <td>0.998683</td>\n",
       "      <td>0.015381</td>\n",
       "    </tr>\n",
       "    <tr>\n",
       "      <th>0</th>\n",
       "      <td>3</td>\n",
       "      <td>SGD</td>\n",
       "      <td>0.998244</td>\n",
       "      <td>0.025408</td>\n",
       "    </tr>\n",
       "    <tr>\n",
       "      <th>0</th>\n",
       "      <td>4</td>\n",
       "      <td>Adam</td>\n",
       "      <td>0.998789</td>\n",
       "      <td>0.012305</td>\n",
       "    </tr>\n",
       "    <tr>\n",
       "      <th>0</th>\n",
       "      <td>4</td>\n",
       "      <td>SGD</td>\n",
       "      <td>0.998244</td>\n",
       "      <td>0.025776</td>\n",
       "    </tr>\n",
       "    <tr>\n",
       "      <th>0</th>\n",
       "      <td>5</td>\n",
       "      <td>Adam</td>\n",
       "      <td>0.998841</td>\n",
       "      <td>0.011231</td>\n",
       "    </tr>\n",
       "    <tr>\n",
       "      <th>0</th>\n",
       "      <td>5</td>\n",
       "      <td>SGD</td>\n",
       "      <td>0.998244</td>\n",
       "      <td>0.024537</td>\n",
       "    </tr>\n",
       "    <tr>\n",
       "      <th>0</th>\n",
       "      <td>6</td>\n",
       "      <td>Adam</td>\n",
       "      <td>0.998859</td>\n",
       "      <td>0.012890</td>\n",
       "    </tr>\n",
       "    <tr>\n",
       "      <th>0</th>\n",
       "      <td>6</td>\n",
       "      <td>SGD</td>\n",
       "      <td>0.998244</td>\n",
       "      <td>0.018215</td>\n",
       "    </tr>\n",
       "    <tr>\n",
       "      <th>0</th>\n",
       "      <td>7</td>\n",
       "      <td>Adam</td>\n",
       "      <td>0.998859</td>\n",
       "      <td>0.008612</td>\n",
       "    </tr>\n",
       "    <tr>\n",
       "      <th>0</th>\n",
       "      <td>7</td>\n",
       "      <td>SGD</td>\n",
       "      <td>0.998244</td>\n",
       "      <td>0.015712</td>\n",
       "    </tr>\n",
       "    <tr>\n",
       "      <th>0</th>\n",
       "      <td>8</td>\n",
       "      <td>Adam</td>\n",
       "      <td>0.998859</td>\n",
       "      <td>0.008491</td>\n",
       "    </tr>\n",
       "    <tr>\n",
       "      <th>0</th>\n",
       "      <td>8</td>\n",
       "      <td>SGD</td>\n",
       "      <td>0.998244</td>\n",
       "      <td>0.015635</td>\n",
       "    </tr>\n",
       "    <tr>\n",
       "      <th>0</th>\n",
       "      <td>9</td>\n",
       "      <td>Adam</td>\n",
       "      <td>0.998894</td>\n",
       "      <td>0.008110</td>\n",
       "    </tr>\n",
       "    <tr>\n",
       "      <th>0</th>\n",
       "      <td>9</td>\n",
       "      <td>SGD</td>\n",
       "      <td>0.998244</td>\n",
       "      <td>0.014101</td>\n",
       "    </tr>\n",
       "    <tr>\n",
       "      <th>0</th>\n",
       "      <td>10</td>\n",
       "      <td>Adam</td>\n",
       "      <td>0.998947</td>\n",
       "      <td>0.007637</td>\n",
       "    </tr>\n",
       "    <tr>\n",
       "      <th>0</th>\n",
       "      <td>10</td>\n",
       "      <td>SGD</td>\n",
       "      <td>0.998244</td>\n",
       "      <td>0.014905</td>\n",
       "    </tr>\n",
       "  </tbody>\n",
       "</table>\n",
       "</div>"
      ],
      "text/plain": [
       "  Iteration Method  Accuracy  Log Loss\n",
       "0         1   Adam  0.998244  0.046188\n",
       "0         1    SGD  0.998244  0.090253\n",
       "0         2   Adam  0.998578  0.017250\n",
       "0         2    SGD  0.998244  0.041868\n",
       "0         3   Adam  0.998683  0.015381\n",
       "0         3    SGD  0.998244  0.025408\n",
       "0         4   Adam  0.998789  0.012305\n",
       "0         4    SGD  0.998244  0.025776\n",
       "0         5   Adam  0.998841  0.011231\n",
       "0         5    SGD  0.998244  0.024537\n",
       "0         6   Adam  0.998859  0.012890\n",
       "0         6    SGD  0.998244  0.018215\n",
       "0         7   Adam  0.998859  0.008612\n",
       "0         7    SGD  0.998244  0.015712\n",
       "0         8   Adam  0.998859  0.008491\n",
       "0         8    SGD  0.998244  0.015635\n",
       "0         9   Adam  0.998894  0.008110\n",
       "0         9    SGD  0.998244  0.014101\n",
       "0        10   Adam  0.998947  0.007637\n",
       "0        10    SGD  0.998244  0.014905"
      ]
     },
     "execution_count": 121,
     "metadata": {},
     "output_type": "execute_result"
    }
   ],
   "source": [
    "resultsDf_temp=resultsDf[resultsDf['Method']!='Adadelta']\n",
    "resultsDf_temp=resultsDf_temp[resultsDf_temp['Method']!='Adagrad']\n",
    "resultsDf_temp"
   ]
  },
  {
   "cell_type": "code",
   "execution_count": 122,
   "metadata": {},
   "outputs": [
    {
     "data": {
      "image/png": "[encoded data removed]",
      "text/plain": [
       "<Figure size 1152x576 with 1 Axes>"
      ]
     },
     "metadata": {
      "needs_background": "light"
     },
     "output_type": "display_data"
    }
   ],
   "source": [
    "fig, ax = plt.subplots(figsize=(16,8)); #-----------------Setting size of the canvas\n",
    "\n",
    "plt.title('Change in Loss Function with Iteration', fontsize=15, pad=10) \n",
    "#---------------------Title of the chart\n",
    "\n",
    "\n",
    "sns.lineplot(x=resultsDf_temp['Iteration'],y=resultsDf_temp['Log Loss'],hue=resultsDf_temp['Method']);\n",
    "\n",
    "\n",
    "ax.set(xlabel='Iteration', ylabel='Loss');"
   ]
  },
  {
   "cell_type": "markdown",
   "metadata": {},
   "source": [
    "***Identify the Method with minimum error and maximum accuarcy. Use the resultsDF_temp to identify the Method***"
   ]
  },
  {
   "cell_type": "code",
   "execution_count": 123,
   "metadata": {},
   "outputs": [
    {
     "data": {
      "text/html": [
       "<div>\n",
       "<style scoped>\n",
       "    .dataframe tbody tr th:only-of-type {\n",
       "        vertical-align: middle;\n",
       "    }\n",
       "\n",
       "    .dataframe tbody tr th {\n",
       "        vertical-align: top;\n",
       "    }\n",
       "\n",
       "    .dataframe thead th {\n",
       "        text-align: right;\n",
       "    }\n",
       "</style>\n",
       "<table border=\"1\" class=\"dataframe\">\n",
       "  <thead>\n",
       "    <tr style=\"text-align: right;\">\n",
       "      <th></th>\n",
       "      <th>Iteration</th>\n",
       "      <th>Method</th>\n",
       "      <th>Accuracy</th>\n",
       "      <th>Log Loss</th>\n",
       "    </tr>\n",
       "  </thead>\n",
       "  <tbody>\n",
       "    <tr>\n",
       "      <th>0</th>\n",
       "      <td>10</td>\n",
       "      <td>Adam</td>\n",
       "      <td>0.998947</td>\n",
       "      <td>0.007637</td>\n",
       "    </tr>\n",
       "  </tbody>\n",
       "</table>\n",
       "</div>"
      ],
      "text/plain": [
       "  Iteration Method  Accuracy  Log Loss\n",
       "0        10   Adam  0.998947  0.007637"
      ]
     },
     "execution_count": 123,
     "metadata": {},
     "output_type": "execute_result"
    }
   ],
   "source": [
    "resultsDf_temp[resultsDf_temp['Log Loss']==resultsDf_temp['Log Loss'].min()]"
   ]
  },
  {
   "cell_type": "code",
   "execution_count": 124,
   "metadata": {},
   "outputs": [
    {
     "data": {
      "text/html": [
       "<div>\n",
       "<style scoped>\n",
       "    .dataframe tbody tr th:only-of-type {\n",
       "        vertical-align: middle;\n",
       "    }\n",
       "\n",
       "    .dataframe tbody tr th {\n",
       "        vertical-align: top;\n",
       "    }\n",
       "\n",
       "    .dataframe thead th {\n",
       "        text-align: right;\n",
       "    }\n",
       "</style>\n",
       "<table border=\"1\" class=\"dataframe\">\n",
       "  <thead>\n",
       "    <tr style=\"text-align: right;\">\n",
       "      <th></th>\n",
       "      <th>Iteration</th>\n",
       "      <th>Method</th>\n",
       "      <th>Accuracy</th>\n",
       "      <th>Log Loss</th>\n",
       "    </tr>\n",
       "  </thead>\n",
       "  <tbody>\n",
       "    <tr>\n",
       "      <th>0</th>\n",
       "      <td>10</td>\n",
       "      <td>Adam</td>\n",
       "      <td>0.998947</td>\n",
       "      <td>0.007637</td>\n",
       "    </tr>\n",
       "  </tbody>\n",
       "</table>\n",
       "</div>"
      ],
      "text/plain": [
       "  Iteration Method  Accuracy  Log Loss\n",
       "0        10   Adam  0.998947  0.007637"
      ]
     },
     "execution_count": 124,
     "metadata": {},
     "output_type": "execute_result"
    }
   ],
   "source": [
    "resultsDf_temp[resultsDf_temp['Accuracy']==resultsDf_temp['Accuracy'].max()]"
   ]
  },
  {
   "cell_type": "markdown",
   "metadata": {},
   "source": [
    "#### Optional - Hyper Parameter Tuning with Keras Tuner\n",
    "\n",
    "In the segment below, we will take a look at how different hyper parameters can be tuned using Kerastune.\n",
    "Since it is difficult to identify the optimum number of neurons we can hyper tune them along with the type of optimizer."
   ]
  },
  {
   "cell_type": "code",
   "execution_count": null,
   "metadata": {},
   "outputs": [],
   "source": [
    "# !pip install -q -U keras-tuner (install using prompt)"
   ]
  },
  {
   "cell_type": "code",
   "execution_count": null,
   "metadata": {},
   "outputs": [],
   "source": [
    "import kerastuner as kt"
   ]
  },
  {
   "cell_type": "code",
   "execution_count": null,
   "metadata": {},
   "outputs": [],
   "source": [
    "def model_builder(hp):\n",
    "  \n",
    "    model = Sequential(layers=None, name=None)\n",
    "    \n",
    "    hp_units = hp.Int('units', min_value = 1, max_value = 30, step = 1)\n",
    "    \n",
    "    model.add(Dense(hp_units, input_shape = (29,), activation = 'tanh'))\n",
    "#     model.add(Dense(5, activation = 'tanh'))\n",
    "    model.add(Dense(1, activation = 'sigmoid'))\n",
    "  \n",
    "    # Tune the learning rate for the optimizer \n",
    "    # Choose an optimal value from 0.01, 0.001, or 0.0001\n",
    "    hp_learning_rate = hp.Choice('learning_rate', values = [1e-2, 1e-3, 1e-4]) \n",
    "  \n",
    "     #optimizer = hp.Choice('optimizer', ['adam', 'sgd', 'rmsprop'])\n",
    "#     'adam', 'sgd', 'rmsprop'\n",
    "\n",
    "#     \n",
    "    model.compile(optimizer = keras.optimizers.RMSprop(learning_rate = hp_learning_rate), loss = 'binary_crossentropy', metrics=['accuracy'])\n",
    "  \n",
    "    return model"
   ]
  },
  {
   "cell_type": "code",
   "execution_count": null,
   "metadata": {},
   "outputs": [],
   "source": [
    "import IPython\n",
    "class ClearTrainingOutput(tf.keras.callbacks.Callback):\n",
    "    def on_train_end(*args, **kwargs):\n",
    "        IPython.display.clear_output(wait = True)"
   ]
  },
  {
   "cell_type": "code",
   "execution_count": null,
   "metadata": {},
   "outputs": [],
   "source": [
    "# MAX_TRIALS = 20\n",
    "# EXECUTIONS_PER_TRIAL = 5\n",
    "\n",
    "# tuner = kt.RandomSearch(model_builder,\n",
    "#     objective='val_accuracy',\n",
    "#     max_trials=MAX_TRIALS,\n",
    "#     executions_per_trial=EXECUTIONS_PER_TRIAL,\n",
    "#     directory='test_dir',\n",
    "#     project_name='tune_optimizer',\n",
    "#     seed=7\n",
    "# )"
   ]
  },
  {
   "cell_type": "code",
   "execution_count": null,
   "metadata": {},
   "outputs": [],
   "source": [
    "# tuner.search_space_summary()"
   ]
  },
  {
   "cell_type": "code",
   "execution_count": null,
   "metadata": {},
   "outputs": [],
   "source": [
    "tuner = kt.Hyperband(model_builder,\n",
    "                     objective = 'val_accuracy', \n",
    "                     max_epochs = 10,\n",
    "                     factor = 3,\n",
    "                     directory = 'my_dir',\n",
    "                     project_name = 'intro')"
   ]
  },
  {
   "cell_type": "code",
   "execution_count": null,
   "metadata": {},
   "outputs": [],
   "source": [
    "tuner.search(X_train, y_train.values, batch_size = 200, epochs = 10, validation_split=0.20, callbacks = [ClearTrainingOutput()])\n",
    "\n",
    "# Get the optimal hyperparameters\n",
    "best_hps = tuner.get_best_hyperparameters(num_trials = 1)[0]\n",
    "\n",
    "print(f\"\"\"\n",
    "The hyperparameter search is complete. The optimal number of units in the first densely-connected\n",
    "layer is {best_hps.get('units')} and the optimal learning rate for the optimizer\n",
    "is {best_hps.get('learning_rate')}.\n",
    "\"\"\")"
   ]
  },
  {
   "cell_type": "code",
   "execution_count": null,
   "metadata": {},
   "outputs": [],
   "source": [
    "tuner.oracle.get_best_trials()[0].hyperparameters.values"
   ]
  },
  {
   "cell_type": "code",
   "execution_count": null,
   "metadata": {},
   "outputs": [],
   "source": [
    "model = Sequential(layers=None, name=None)\n",
    "model.add(Dense(9, input_shape = (29,), activation = 'tanh'))\n",
    "# model.add(Dense(5, activation = 'tanh'))\n",
    "model.add(Dense(1, activation = 'sigmoid'))\n",
    "model.compile(optimizer = 'rmsprop', loss = 'binary_crossentropy', metrics=['accuracy'])\n",
    "mod.fit(X_train, y_train.values, batch_size = 700, epochs = 10, verbose = 0)\n",
    "results = mod.evaluate(X_test, y_test.values, verbose=0)"
   ]
  },
  {
   "cell_type": "code",
   "execution_count": null,
   "metadata": {},
   "outputs": [],
   "source": [
    "results"
   ]
  },
  {
   "cell_type": "code",
   "execution_count": null,
   "metadata": {},
   "outputs": [],
   "source": []
  }
 ],
 "metadata": {
  "accelerator": "GPU",
  "colab": {
   "collapsed_sections": [],
   "name": "Mentor Session Case Study Notebook - Week 2",
   "provenance": []
  },
  "kernelspec": {
   "display_name": "Python 3",
   "language": "python",
   "name": "python3"
  },
  "language_info": {
   "codemirror_mode": {
    "name": "ipython",
    "version": 3
   },
   "file_extension": ".py",
   "mimetype": "text/x-python",
   "name": "python",
   "nbconvert_exporter": "python",
   "pygments_lexer": "ipython3",
   "version": "3.7.6"
  }
 },
 "nbformat": 4,
 "nbformat_minor": 1
}
